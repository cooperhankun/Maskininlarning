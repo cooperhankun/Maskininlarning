{
 "cells": [
  {
   "cell_type": "code",
   "execution_count": null,
   "metadata": {},
   "outputs": [],
   "source": []
  }
 ],
 "metadata": {
  "interpreter": {
   "hash": "d599e8ed57b4ba34dca595ae6c2c24f79d390e3613c4259c7061402a6e6c1dd5"
  },
  "kernelspec": {
   "display_name": "Python 3.9.6 64-bit ('Maskininlarning-oF7sSZe7': pipenv)",
   "language": "python",
   "name": "python3"
  },
  "language_info": {
   "name": "python",
   "version": "3.9.6"
  },
  "orig_nbformat": 4
 },
 "nbformat": 4,
 "nbformat_minor": 2
}
