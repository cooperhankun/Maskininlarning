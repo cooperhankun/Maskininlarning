{
 "cells": [
  {
   "cell_type": "code",
   "execution_count": 18,
   "metadata": {},
   "outputs": [],
   "source": [
    "import joblib\n",
    "import pandas as pd\n",
    "\n",
    "df = pd.read_csv(\"test_samples.csv\")\n",
    "LR_deploy_model = joblib.load(\"LR_deploy_model\")"
   ]
  },
  {
   "cell_type": "code",
   "execution_count": 19,
   "metadata": {},
   "outputs": [
    {
     "name": "stderr",
     "output_type": "stream",
     "text": [
      "C:\\Users\\Kun\\.virtualenvs\\Maskininlarning-oF7sSZe7\\lib\\site-packages\\sklearn\\base.py:443: UserWarning: X has feature names, but LogisticRegression was fitted without feature names\n",
      "  warnings.warn(\n",
      "C:\\Users\\Kun\\.virtualenvs\\Maskininlarning-oF7sSZe7\\lib\\site-packages\\sklearn\\base.py:443: UserWarning: X has feature names, but LogisticRegression was fitted without feature names\n",
      "  warnings.warn(\n"
     ]
    }
   ],
   "source": [
    "predictions = pd.DataFrame(LR_deploy_model.predict_proba(df), columns=[\"probability class 0\", \"probability class 1\"])\n",
    "predictions[\"prediction\"] = LR_deploy_model.predict(df)\n",
    "\n",
    "predictions.to_csv(\"prediction.csv\", index=False)"
   ]
  }
 ],
 "metadata": {
  "interpreter": {
   "hash": "9b27f3f80a068e9efdf929f53cfa50a291fc7bc5a3931e66e74bdbc91c4e4057"
  },
  "kernelspec": {
   "display_name": "Python 3.9.6 ('Maskininlarning-AI21-o7c7lquv')",
   "language": "python",
   "name": "python3"
  },
  "language_info": {
   "codemirror_mode": {
    "name": "ipython",
    "version": 3
   },
   "file_extension": ".py",
   "mimetype": "text/x-python",
   "name": "python",
   "nbconvert_exporter": "python",
   "pygments_lexer": "ipython3",
   "version": "3.9.6"
  },
  "orig_nbformat": 4
 },
 "nbformat": 4,
 "nbformat_minor": 2
}
