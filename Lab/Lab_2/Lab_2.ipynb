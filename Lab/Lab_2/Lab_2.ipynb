{
 "cells": [
  {
   "cell_type": "code",
   "execution_count": 455,
   "metadata": {},
   "outputs": [],
   "source": [
    "import numpy as np\n",
    "import pandas as pd\n",
    "import matplotlib.pyplot as plt\n",
    "import seaborn as sns"
   ]
  },
  {
   "cell_type": "markdown",
   "metadata": {},
   "source": [
    "## 2.0 - EDA uppvärmning"
   ]
  },
  {
   "cell_type": "code",
   "execution_count": 456,
   "metadata": {},
   "outputs": [
    {
     "data": {
      "text/html": [
       "<div>\n",
       "<style scoped>\n",
       "    .dataframe tbody tr th:only-of-type {\n",
       "        vertical-align: middle;\n",
       "    }\n",
       "\n",
       "    .dataframe tbody tr th {\n",
       "        vertical-align: top;\n",
       "    }\n",
       "\n",
       "    .dataframe thead th {\n",
       "        text-align: right;\n",
       "    }\n",
       "</style>\n",
       "<table border=\"1\" class=\"dataframe\">\n",
       "  <thead>\n",
       "    <tr style=\"text-align: right;\">\n",
       "      <th></th>\n",
       "      <th>id</th>\n",
       "      <th>age</th>\n",
       "      <th>gender</th>\n",
       "      <th>height</th>\n",
       "      <th>weight</th>\n",
       "      <th>ap_hi</th>\n",
       "      <th>ap_lo</th>\n",
       "      <th>cholesterol</th>\n",
       "      <th>gluc</th>\n",
       "      <th>smoke</th>\n",
       "      <th>alco</th>\n",
       "      <th>active</th>\n",
       "      <th>cardio</th>\n",
       "    </tr>\n",
       "  </thead>\n",
       "  <tbody>\n",
       "    <tr>\n",
       "      <th>0</th>\n",
       "      <td>0</td>\n",
       "      <td>18393</td>\n",
       "      <td>2</td>\n",
       "      <td>168</td>\n",
       "      <td>62.0</td>\n",
       "      <td>110</td>\n",
       "      <td>80</td>\n",
       "      <td>1</td>\n",
       "      <td>1</td>\n",
       "      <td>0</td>\n",
       "      <td>0</td>\n",
       "      <td>1</td>\n",
       "      <td>0</td>\n",
       "    </tr>\n",
       "    <tr>\n",
       "      <th>1</th>\n",
       "      <td>1</td>\n",
       "      <td>20228</td>\n",
       "      <td>1</td>\n",
       "      <td>156</td>\n",
       "      <td>85.0</td>\n",
       "      <td>140</td>\n",
       "      <td>90</td>\n",
       "      <td>3</td>\n",
       "      <td>1</td>\n",
       "      <td>0</td>\n",
       "      <td>0</td>\n",
       "      <td>1</td>\n",
       "      <td>1</td>\n",
       "    </tr>\n",
       "    <tr>\n",
       "      <th>2</th>\n",
       "      <td>2</td>\n",
       "      <td>18857</td>\n",
       "      <td>1</td>\n",
       "      <td>165</td>\n",
       "      <td>64.0</td>\n",
       "      <td>130</td>\n",
       "      <td>70</td>\n",
       "      <td>3</td>\n",
       "      <td>1</td>\n",
       "      <td>0</td>\n",
       "      <td>0</td>\n",
       "      <td>0</td>\n",
       "      <td>1</td>\n",
       "    </tr>\n",
       "    <tr>\n",
       "      <th>3</th>\n",
       "      <td>3</td>\n",
       "      <td>17623</td>\n",
       "      <td>2</td>\n",
       "      <td>169</td>\n",
       "      <td>82.0</td>\n",
       "      <td>150</td>\n",
       "      <td>100</td>\n",
       "      <td>1</td>\n",
       "      <td>1</td>\n",
       "      <td>0</td>\n",
       "      <td>0</td>\n",
       "      <td>1</td>\n",
       "      <td>1</td>\n",
       "    </tr>\n",
       "    <tr>\n",
       "      <th>4</th>\n",
       "      <td>4</td>\n",
       "      <td>17474</td>\n",
       "      <td>1</td>\n",
       "      <td>156</td>\n",
       "      <td>56.0</td>\n",
       "      <td>100</td>\n",
       "      <td>60</td>\n",
       "      <td>1</td>\n",
       "      <td>1</td>\n",
       "      <td>0</td>\n",
       "      <td>0</td>\n",
       "      <td>0</td>\n",
       "      <td>0</td>\n",
       "    </tr>\n",
       "  </tbody>\n",
       "</table>\n",
       "</div>"
      ],
      "text/plain": [
       "   id    age  gender  height  weight  ap_hi  ap_lo  cholesterol  gluc  smoke  \\\n",
       "0   0  18393       2     168    62.0    110     80            1     1      0   \n",
       "1   1  20228       1     156    85.0    140     90            3     1      0   \n",
       "2   2  18857       1     165    64.0    130     70            3     1      0   \n",
       "3   3  17623       2     169    82.0    150    100            1     1      0   \n",
       "4   4  17474       1     156    56.0    100     60            1     1      0   \n",
       "\n",
       "   alco  active  cardio  \n",
       "0     0       1       0  \n",
       "1     0       1       1  \n",
       "2     0       0       1  \n",
       "3     0       1       1  \n",
       "4     0       0       0  "
      ]
     },
     "execution_count": 456,
     "metadata": {},
     "output_type": "execute_result"
    }
   ],
   "source": [
    "# load in datas\n",
    "cardio_train = pd.read_csv(\"cardio_train.csv\", sep=\";\")\n",
    "cardio_train.head()"
   ]
  },
  {
   "cell_type": "code",
   "execution_count": 457,
   "metadata": {},
   "outputs": [
    {
     "name": "stdout",
     "output_type": "stream",
     "text": [
      "<class 'pandas.core.frame.DataFrame'>\n",
      "RangeIndex: 70000 entries, 0 to 69999\n",
      "Data columns (total 13 columns):\n",
      " #   Column       Non-Null Count  Dtype  \n",
      "---  ------       --------------  -----  \n",
      " 0   id           70000 non-null  int64  \n",
      " 1   age          70000 non-null  int64  \n",
      " 2   gender       70000 non-null  int64  \n",
      " 3   height       70000 non-null  int64  \n",
      " 4   weight       70000 non-null  float64\n",
      " 5   ap_hi        70000 non-null  int64  \n",
      " 6   ap_lo        70000 non-null  int64  \n",
      " 7   cholesterol  70000 non-null  int64  \n",
      " 8   gluc         70000 non-null  int64  \n",
      " 9   smoke        70000 non-null  int64  \n",
      " 10  alco         70000 non-null  int64  \n",
      " 11  active       70000 non-null  int64  \n",
      " 12  cardio       70000 non-null  int64  \n",
      "dtypes: float64(1), int64(12)\n",
      "memory usage: 6.9 MB\n"
     ]
    }
   ],
   "source": [
    "cardio_train.info()"
   ]
  },
  {
   "cell_type": "code",
   "execution_count": 458,
   "metadata": {},
   "outputs": [
    {
     "name": "stdout",
     "output_type": "stream",
     "text": [
      "Number of positive is: 34979\n",
      "Number of negative is: 35021\n"
     ]
    }
   ],
   "source": [
    "disease_count = cardio_train.cardio.value_counts()\n",
    "print(f\"Number of positive is: {disease_count[1]}\")\n",
    "print(f\"Number of negative is: {disease_count[0]}\")\n"
   ]
  },
  {
   "cell_type": "code",
   "execution_count": 459,
   "metadata": {},
   "outputs": [
    {
     "data": {
      "text/plain": [
       "cholesterol\n",
       "1              52385\n",
       "2               9549\n",
       "3               8066\n",
       "dtype: int64"
      ]
     },
     "execution_count": 459,
     "metadata": {},
     "output_type": "execute_result"
    }
   ],
   "source": [
    "cardio_train[[\"cholesterol\"]].value_counts()"
   ]
  },
  {
   "cell_type": "code",
   "execution_count": 460,
   "metadata": {},
   "outputs": [
    {
     "data": {
      "text/plain": [
       "Text(0.5, 1.0, 'Kolesterolvärden')"
      ]
     },
     "execution_count": 460,
     "metadata": {},
     "output_type": "execute_result"
    },
    {
     "data": {
      "image/png": "[encoded data removed]",
      "text/plain": [
       "<Figure size 500x500 with 1 Axes>"
      ]
     },
     "metadata": {},
     "output_type": "display_data"
    }
   ],
   "source": [
    "plt.figure(figsize=(5,5), dpi=100)\n",
    "plt.pie(cardio_train[[\"cholesterol\"]].value_counts(), autopct=\"%1.1f%%\", labels=[\"Normala\", \"Över normala\", \"Långt över normala\"])\n",
    "plt.title(\"Kolesterolvärden\")"
   ]
  },
  {
   "cell_type": "code",
   "execution_count": 461,
   "metadata": {},
   "outputs": [
    {
     "data": {
      "text/plain": [
       "Text(0.5, 1.0, 'Age distribution')"
      ]
     },
     "execution_count": 461,
     "metadata": {},
     "output_type": "execute_result"
    },
    {
     "data": {
      "image/png": "[encoded data removed]",
      "text/plain": [
       "<Figure size 800x400 with 1 Axes>"
      ]
     },
     "metadata": {
      "needs_background": "light"
     },
     "output_type": "display_data"
    }
   ],
   "source": [
    "cardio_train[\"age\"] = round(cardio_train[\"age\"]/365, 1)\n",
    "plt.figure(figsize=(8,4), dpi=100)\n",
    "sns.histplot(cardio_train[\"age\"], bins=35)\n",
    "plt.title(\"Age distribution\")"
   ]
  },
  {
   "cell_type": "code",
   "execution_count": 462,
   "metadata": {},
   "outputs": [
    {
     "data": {
      "text/plain": [
       "smoke    8.812857\n",
       "dtype: float64"
      ]
     },
     "execution_count": 462,
     "metadata": {},
     "output_type": "execute_result"
    }
   ],
   "source": [
    "smoke_percent = (cardio_train[[\"smoke\"]].value_counts()[1]/cardio_train[[\"smoke\"]].count())*100\n",
    "smoke_percent\n",
    "# About 8.8% smokers"
   ]
  },
  {
   "cell_type": "code",
   "execution_count": 463,
   "metadata": {},
   "outputs": [
    {
     "data": {
      "text/plain": [
       "Text(0.5, 1.0, 'Weight distribution')"
      ]
     },
     "execution_count": 463,
     "metadata": {},
     "output_type": "execute_result"
    },
    {
     "data": {
      "image/png": "[encoded data removed]",
      "text/plain": [
       "<Figure size 800x400 with 1 Axes>"
      ]
     },
     "metadata": {
      "needs_background": "light"
     },
     "output_type": "display_data"
    }
   ],
   "source": [
    "plt.figure(figsize=(8,4), dpi=100)\n",
    "sns.histplot(cardio_train[[\"weight\"]], bins=88)\n",
    "plt.title(\"Weight distribution\")"
   ]
  },
  {
   "cell_type": "code",
   "execution_count": 464,
   "metadata": {},
   "outputs": [
    {
     "data": {
      "text/plain": [
       "Text(0.5, 1.0, 'Height distribution')"
      ]
     },
     "execution_count": 464,
     "metadata": {},
     "output_type": "execute_result"
    },
    {
     "data": {
      "image/png": "[encoded data removed]",
      "text/plain": [
       "<Figure size 800x400 with 1 Axes>"
      ]
     },
     "metadata": {
      "needs_background": "light"
     },
     "output_type": "display_data"
    }
   ],
   "source": [
    "plt.figure(figsize=(8,4), dpi=100)\n",
    "sns.histplot(cardio_train[[\"height\"]], bins=88)\n",
    "plt.title(\"Height distribution\")"
   ]
  },
  {
   "cell_type": "code",
   "execution_count": 465,
   "metadata": {},
   "outputs": [
    {
     "data": {
      "text/plain": [
       "Text(0.5, 1.0, 'Disease in gender')"
      ]
     },
     "execution_count": 465,
     "metadata": {},
     "output_type": "execute_result"
    },
    {
     "data": {
      "image/png": "[encoded data removed]",
      "text/plain": [
       "<Figure size 432x288 with 1 Axes>"
      ]
     },
     "metadata": {
      "needs_background": "light"
     },
     "output_type": "display_data"
    }
   ],
   "source": [
    "sns.countplot(x='gender',hue=\"cardio\",data=cardio_train)\n",
    "plt.title(\"Disease in gender\")"
   ]
  },
  {
   "cell_type": "markdown",
   "metadata": {},
   "source": [
    "## 2.1.0 - Feature engineering BMI\n"
   ]
  },
  {
   "cell_type": "code",
   "execution_count": 466,
   "metadata": {},
   "outputs": [
    {
     "data": {
      "text/html": [
       "<div>\n",
       "<style scoped>\n",
       "    .dataframe tbody tr th:only-of-type {\n",
       "        vertical-align: middle;\n",
       "    }\n",
       "\n",
       "    .dataframe tbody tr th {\n",
       "        vertical-align: top;\n",
       "    }\n",
       "\n",
       "    .dataframe thead th {\n",
       "        text-align: right;\n",
       "    }\n",
       "</style>\n",
       "<table border=\"1\" class=\"dataframe\">\n",
       "  <thead>\n",
       "    <tr style=\"text-align: right;\">\n",
       "      <th></th>\n",
       "      <th>id</th>\n",
       "      <th>age</th>\n",
       "      <th>gender</th>\n",
       "      <th>height</th>\n",
       "      <th>weight</th>\n",
       "      <th>ap_hi</th>\n",
       "      <th>ap_lo</th>\n",
       "      <th>cholesterol</th>\n",
       "      <th>gluc</th>\n",
       "      <th>smoke</th>\n",
       "      <th>alco</th>\n",
       "      <th>active</th>\n",
       "      <th>cardio</th>\n",
       "      <th>BMI</th>\n",
       "    </tr>\n",
       "  </thead>\n",
       "  <tbody>\n",
       "    <tr>\n",
       "      <th>0</th>\n",
       "      <td>0</td>\n",
       "      <td>50.4</td>\n",
       "      <td>2</td>\n",
       "      <td>168</td>\n",
       "      <td>62.0</td>\n",
       "      <td>110</td>\n",
       "      <td>80</td>\n",
       "      <td>1</td>\n",
       "      <td>1</td>\n",
       "      <td>0</td>\n",
       "      <td>0</td>\n",
       "      <td>1</td>\n",
       "      <td>0</td>\n",
       "      <td>21.967120</td>\n",
       "    </tr>\n",
       "    <tr>\n",
       "      <th>1</th>\n",
       "      <td>1</td>\n",
       "      <td>55.4</td>\n",
       "      <td>1</td>\n",
       "      <td>156</td>\n",
       "      <td>85.0</td>\n",
       "      <td>140</td>\n",
       "      <td>90</td>\n",
       "      <td>3</td>\n",
       "      <td>1</td>\n",
       "      <td>0</td>\n",
       "      <td>0</td>\n",
       "      <td>1</td>\n",
       "      <td>1</td>\n",
       "      <td>34.927679</td>\n",
       "    </tr>\n",
       "    <tr>\n",
       "      <th>2</th>\n",
       "      <td>2</td>\n",
       "      <td>51.7</td>\n",
       "      <td>1</td>\n",
       "      <td>165</td>\n",
       "      <td>64.0</td>\n",
       "      <td>130</td>\n",
       "      <td>70</td>\n",
       "      <td>3</td>\n",
       "      <td>1</td>\n",
       "      <td>0</td>\n",
       "      <td>0</td>\n",
       "      <td>0</td>\n",
       "      <td>1</td>\n",
       "      <td>23.507805</td>\n",
       "    </tr>\n",
       "    <tr>\n",
       "      <th>3</th>\n",
       "      <td>3</td>\n",
       "      <td>48.3</td>\n",
       "      <td>2</td>\n",
       "      <td>169</td>\n",
       "      <td>82.0</td>\n",
       "      <td>150</td>\n",
       "      <td>100</td>\n",
       "      <td>1</td>\n",
       "      <td>1</td>\n",
       "      <td>0</td>\n",
       "      <td>0</td>\n",
       "      <td>1</td>\n",
       "      <td>1</td>\n",
       "      <td>28.710479</td>\n",
       "    </tr>\n",
       "    <tr>\n",
       "      <th>4</th>\n",
       "      <td>4</td>\n",
       "      <td>47.9</td>\n",
       "      <td>1</td>\n",
       "      <td>156</td>\n",
       "      <td>56.0</td>\n",
       "      <td>100</td>\n",
       "      <td>60</td>\n",
       "      <td>1</td>\n",
       "      <td>1</td>\n",
       "      <td>0</td>\n",
       "      <td>0</td>\n",
       "      <td>0</td>\n",
       "      <td>0</td>\n",
       "      <td>23.011177</td>\n",
       "    </tr>\n",
       "    <tr>\n",
       "      <th>...</th>\n",
       "      <td>...</td>\n",
       "      <td>...</td>\n",
       "      <td>...</td>\n",
       "      <td>...</td>\n",
       "      <td>...</td>\n",
       "      <td>...</td>\n",
       "      <td>...</td>\n",
       "      <td>...</td>\n",
       "      <td>...</td>\n",
       "      <td>...</td>\n",
       "      <td>...</td>\n",
       "      <td>...</td>\n",
       "      <td>...</td>\n",
       "      <td>...</td>\n",
       "    </tr>\n",
       "    <tr>\n",
       "      <th>69995</th>\n",
       "      <td>99993</td>\n",
       "      <td>52.7</td>\n",
       "      <td>2</td>\n",
       "      <td>168</td>\n",
       "      <td>76.0</td>\n",
       "      <td>120</td>\n",
       "      <td>80</td>\n",
       "      <td>1</td>\n",
       "      <td>1</td>\n",
       "      <td>1</td>\n",
       "      <td>0</td>\n",
       "      <td>1</td>\n",
       "      <td>0</td>\n",
       "      <td>26.927438</td>\n",
       "    </tr>\n",
       "    <tr>\n",
       "      <th>69996</th>\n",
       "      <td>99995</td>\n",
       "      <td>61.9</td>\n",
       "      <td>1</td>\n",
       "      <td>158</td>\n",
       "      <td>126.0</td>\n",
       "      <td>140</td>\n",
       "      <td>90</td>\n",
       "      <td>2</td>\n",
       "      <td>2</td>\n",
       "      <td>0</td>\n",
       "      <td>0</td>\n",
       "      <td>1</td>\n",
       "      <td>1</td>\n",
       "      <td>50.472681</td>\n",
       "    </tr>\n",
       "    <tr>\n",
       "      <th>69997</th>\n",
       "      <td>99996</td>\n",
       "      <td>52.2</td>\n",
       "      <td>2</td>\n",
       "      <td>183</td>\n",
       "      <td>105.0</td>\n",
       "      <td>180</td>\n",
       "      <td>90</td>\n",
       "      <td>3</td>\n",
       "      <td>1</td>\n",
       "      <td>0</td>\n",
       "      <td>1</td>\n",
       "      <td>0</td>\n",
       "      <td>1</td>\n",
       "      <td>31.353579</td>\n",
       "    </tr>\n",
       "    <tr>\n",
       "      <th>69998</th>\n",
       "      <td>99998</td>\n",
       "      <td>61.5</td>\n",
       "      <td>1</td>\n",
       "      <td>163</td>\n",
       "      <td>72.0</td>\n",
       "      <td>135</td>\n",
       "      <td>80</td>\n",
       "      <td>1</td>\n",
       "      <td>2</td>\n",
       "      <td>0</td>\n",
       "      <td>0</td>\n",
       "      <td>0</td>\n",
       "      <td>1</td>\n",
       "      <td>27.099251</td>\n",
       "    </tr>\n",
       "    <tr>\n",
       "      <th>69999</th>\n",
       "      <td>99999</td>\n",
       "      <td>56.3</td>\n",
       "      <td>1</td>\n",
       "      <td>170</td>\n",
       "      <td>72.0</td>\n",
       "      <td>120</td>\n",
       "      <td>80</td>\n",
       "      <td>2</td>\n",
       "      <td>1</td>\n",
       "      <td>0</td>\n",
       "      <td>0</td>\n",
       "      <td>1</td>\n",
       "      <td>0</td>\n",
       "      <td>24.913495</td>\n",
       "    </tr>\n",
       "  </tbody>\n",
       "</table>\n",
       "<p>70000 rows × 14 columns</p>\n",
       "</div>"
      ],
      "text/plain": [
       "          id   age  gender  height  weight  ap_hi  ap_lo  cholesterol  gluc  \\\n",
       "0          0  50.4       2     168    62.0    110     80            1     1   \n",
       "1          1  55.4       1     156    85.0    140     90            3     1   \n",
       "2          2  51.7       1     165    64.0    130     70            3     1   \n",
       "3          3  48.3       2     169    82.0    150    100            1     1   \n",
       "4          4  47.9       1     156    56.0    100     60            1     1   \n",
       "...      ...   ...     ...     ...     ...    ...    ...          ...   ...   \n",
       "69995  99993  52.7       2     168    76.0    120     80            1     1   \n",
       "69996  99995  61.9       1     158   126.0    140     90            2     2   \n",
       "69997  99996  52.2       2     183   105.0    180     90            3     1   \n",
       "69998  99998  61.5       1     163    72.0    135     80            1     2   \n",
       "69999  99999  56.3       1     170    72.0    120     80            2     1   \n",
       "\n",
       "       smoke  alco  active  cardio        BMI  \n",
       "0          0     0       1       0  21.967120  \n",
       "1          0     0       1       1  34.927679  \n",
       "2          0     0       0       1  23.507805  \n",
       "3          0     0       1       1  28.710479  \n",
       "4          0     0       0       0  23.011177  \n",
       "...      ...   ...     ...     ...        ...  \n",
       "69995      1     0       1       0  26.927438  \n",
       "69996      0     0       1       1  50.472681  \n",
       "69997      0     1       0       1  31.353579  \n",
       "69998      0     0       0       1  27.099251  \n",
       "69999      0     0       1       0  24.913495  \n",
       "\n",
       "[70000 rows x 14 columns]"
      ]
     },
     "execution_count": 466,
     "metadata": {},
     "output_type": "execute_result"
    }
   ],
   "source": [
    "cardio_train[\"BMI\"] = cardio_train[\"weight\"]/((cardio_train[\"height\"]/100)**2)\n",
    "cardio_train"
   ]
  },
  {
   "cell_type": "code",
   "execution_count": 467,
   "metadata": {},
   "outputs": [
    {
     "data": {
      "text/plain": [
       "count    70000.000000\n",
       "mean        27.556513\n",
       "std          6.091511\n",
       "min          3.471784\n",
       "25%         23.875115\n",
       "50%         26.374068\n",
       "75%         30.222222\n",
       "max        298.666667\n",
       "Name: BMI, dtype: float64"
      ]
     },
     "execution_count": 467,
     "metadata": {},
     "output_type": "execute_result"
    }
   ],
   "source": [
    "cardio_train[\"BMI\"].describe()"
   ]
  },
  {
   "cell_type": "code",
   "execution_count": 468,
   "metadata": {},
   "outputs": [
    {
     "data": {
      "text/plain": [
       "<AxesSubplot:>"
      ]
     },
     "execution_count": 468,
     "metadata": {},
     "output_type": "execute_result"
    },
    {
     "data": {
      "image/png": "[encoded data removed]",
      "text/plain": [
       "<Figure size 300x1000 with 1 Axes>"
      ]
     },
     "metadata": {
      "needs_background": "light"
     },
     "output_type": "display_data"
    }
   ],
   "source": [
    "plt.figure(figsize=(3,10), dpi = 100)\n",
    "sns.boxplot(data = cardio_train[\"BMI\"])\n",
    "# boxplot for BMI"
   ]
  },
  {
   "cell_type": "markdown",
   "metadata": {},
   "source": [
    "The distribution of BMI has a skew and we keep the values within mean ± 3 $\\sigma$, which 99.7% of the dataset included but outliers droped."
   ]
  },
  {
   "cell_type": "code",
   "execution_count": 469,
   "metadata": {},
   "outputs": [
    {
     "data": {
      "text/plain": [
       "count    69464.000000\n",
       "mean        27.328387\n",
       "std          4.903914\n",
       "min          9.331007\n",
       "25%         23.875115\n",
       "50%         26.314635\n",
       "75%         30.110279\n",
       "max         45.820235\n",
       "Name: BMI, dtype: float64"
      ]
     },
     "execution_count": 469,
     "metadata": {},
     "output_type": "execute_result"
    }
   ],
   "source": [
    "BMI_mean = cardio_train[\"BMI\"].mean()\n",
    "BMI_std = cardio_train[\"BMI\"].std()\n",
    "\n",
    "cardio_train_BMI = cardio_train[(BMI_mean-3*BMI_std < cardio_train[\"BMI\"]) & (BMI_mean+3*BMI_std > cardio_train[\"BMI\"])]\n",
    "cardio_train_BMI.BMI.describe()"
   ]
  },
  {
   "cell_type": "markdown",
   "metadata": {},
   "source": [
    "Notice here the max value is down to 45 and total counts only reduced by 532. It means that the proportion of outliers is small but big impact on data."
   ]
  },
  {
   "cell_type": "code",
   "execution_count": 470,
   "metadata": {},
   "outputs": [],
   "source": [
    "def BIM_categories(BMI):\n",
    "    if BMI < 18.5:\n",
    "        return 'Underweight'\n",
    "    elif 18.5 <= BMI < 25:\n",
    "        return 'Normal_range'\n",
    "    elif 25.0 <= BMI < 30:\n",
    "        return 'Overweight'\n",
    "    elif 30.0 <= BMI < 35:\n",
    "        return 'Obese_1'\n",
    "    elif 35.0 <= BMI < 40:\n",
    "        return 'Obese_2'\n",
    "    else:\n",
    "        return 'Obese_3'"
   ]
  },
  {
   "cell_type": "code",
   "execution_count": 471,
   "metadata": {},
   "outputs": [
    {
     "name": "stderr",
     "output_type": "stream",
     "text": [
      "C:\\Users\\Kun\\AppData\\Local\\Temp\\ipykernel_15916\\635540010.py:1: SettingWithCopyWarning: \n",
      "A value is trying to be set on a copy of a slice from a DataFrame.\n",
      "Try using .loc[row_indexer,col_indexer] = value instead\n",
      "\n",
      "See the caveats in the documentation: https://pandas.pydata.org/pandas-docs/stable/user_guide/indexing.html#returning-a-view-versus-a-copy\n",
      "  cardio_train_BMI[\"BIM_categories\"] = cardio_train_BMI[[\"BMI\"]].apply(lambda x: BIM_categories(*x), axis= 1)\n"
     ]
    },
    {
     "data": {
      "text/html": [
       "<div>\n",
       "<style scoped>\n",
       "    .dataframe tbody tr th:only-of-type {\n",
       "        vertical-align: middle;\n",
       "    }\n",
       "\n",
       "    .dataframe tbody tr th {\n",
       "        vertical-align: top;\n",
       "    }\n",
       "\n",
       "    .dataframe thead th {\n",
       "        text-align: right;\n",
       "    }\n",
       "</style>\n",
       "<table border=\"1\" class=\"dataframe\">\n",
       "  <thead>\n",
       "    <tr style=\"text-align: right;\">\n",
       "      <th></th>\n",
       "      <th>id</th>\n",
       "      <th>age</th>\n",
       "      <th>gender</th>\n",
       "      <th>height</th>\n",
       "      <th>weight</th>\n",
       "      <th>ap_hi</th>\n",
       "      <th>ap_lo</th>\n",
       "      <th>cholesterol</th>\n",
       "      <th>gluc</th>\n",
       "      <th>smoke</th>\n",
       "      <th>alco</th>\n",
       "      <th>active</th>\n",
       "      <th>cardio</th>\n",
       "      <th>BMI</th>\n",
       "      <th>BIM_categories</th>\n",
       "    </tr>\n",
       "  </thead>\n",
       "  <tbody>\n",
       "    <tr>\n",
       "      <th>0</th>\n",
       "      <td>0</td>\n",
       "      <td>50.4</td>\n",
       "      <td>2</td>\n",
       "      <td>168</td>\n",
       "      <td>62.0</td>\n",
       "      <td>110</td>\n",
       "      <td>80</td>\n",
       "      <td>1</td>\n",
       "      <td>1</td>\n",
       "      <td>0</td>\n",
       "      <td>0</td>\n",
       "      <td>1</td>\n",
       "      <td>0</td>\n",
       "      <td>21.967120</td>\n",
       "      <td>Normal_range</td>\n",
       "    </tr>\n",
       "    <tr>\n",
       "      <th>1</th>\n",
       "      <td>1</td>\n",
       "      <td>55.4</td>\n",
       "      <td>1</td>\n",
       "      <td>156</td>\n",
       "      <td>85.0</td>\n",
       "      <td>140</td>\n",
       "      <td>90</td>\n",
       "      <td>3</td>\n",
       "      <td>1</td>\n",
       "      <td>0</td>\n",
       "      <td>0</td>\n",
       "      <td>1</td>\n",
       "      <td>1</td>\n",
       "      <td>34.927679</td>\n",
       "      <td>Obese_1</td>\n",
       "    </tr>\n",
       "    <tr>\n",
       "      <th>2</th>\n",
       "      <td>2</td>\n",
       "      <td>51.7</td>\n",
       "      <td>1</td>\n",
       "      <td>165</td>\n",
       "      <td>64.0</td>\n",
       "      <td>130</td>\n",
       "      <td>70</td>\n",
       "      <td>3</td>\n",
       "      <td>1</td>\n",
       "      <td>0</td>\n",
       "      <td>0</td>\n",
       "      <td>0</td>\n",
       "      <td>1</td>\n",
       "      <td>23.507805</td>\n",
       "      <td>Normal_range</td>\n",
       "    </tr>\n",
       "    <tr>\n",
       "      <th>3</th>\n",
       "      <td>3</td>\n",
       "      <td>48.3</td>\n",
       "      <td>2</td>\n",
       "      <td>169</td>\n",
       "      <td>82.0</td>\n",
       "      <td>150</td>\n",
       "      <td>100</td>\n",
       "      <td>1</td>\n",
       "      <td>1</td>\n",
       "      <td>0</td>\n",
       "      <td>0</td>\n",
       "      <td>1</td>\n",
       "      <td>1</td>\n",
       "      <td>28.710479</td>\n",
       "      <td>Overweight</td>\n",
       "    </tr>\n",
       "    <tr>\n",
       "      <th>4</th>\n",
       "      <td>4</td>\n",
       "      <td>47.9</td>\n",
       "      <td>1</td>\n",
       "      <td>156</td>\n",
       "      <td>56.0</td>\n",
       "      <td>100</td>\n",
       "      <td>60</td>\n",
       "      <td>1</td>\n",
       "      <td>1</td>\n",
       "      <td>0</td>\n",
       "      <td>0</td>\n",
       "      <td>0</td>\n",
       "      <td>0</td>\n",
       "      <td>23.011177</td>\n",
       "      <td>Normal_range</td>\n",
       "    </tr>\n",
       "    <tr>\n",
       "      <th>...</th>\n",
       "      <td>...</td>\n",
       "      <td>...</td>\n",
       "      <td>...</td>\n",
       "      <td>...</td>\n",
       "      <td>...</td>\n",
       "      <td>...</td>\n",
       "      <td>...</td>\n",
       "      <td>...</td>\n",
       "      <td>...</td>\n",
       "      <td>...</td>\n",
       "      <td>...</td>\n",
       "      <td>...</td>\n",
       "      <td>...</td>\n",
       "      <td>...</td>\n",
       "      <td>...</td>\n",
       "    </tr>\n",
       "    <tr>\n",
       "      <th>69994</th>\n",
       "      <td>99992</td>\n",
       "      <td>57.7</td>\n",
       "      <td>1</td>\n",
       "      <td>165</td>\n",
       "      <td>80.0</td>\n",
       "      <td>150</td>\n",
       "      <td>80</td>\n",
       "      <td>1</td>\n",
       "      <td>1</td>\n",
       "      <td>0</td>\n",
       "      <td>0</td>\n",
       "      <td>1</td>\n",
       "      <td>1</td>\n",
       "      <td>29.384757</td>\n",
       "      <td>Overweight</td>\n",
       "    </tr>\n",
       "    <tr>\n",
       "      <th>69995</th>\n",
       "      <td>99993</td>\n",
       "      <td>52.7</td>\n",
       "      <td>2</td>\n",
       "      <td>168</td>\n",
       "      <td>76.0</td>\n",
       "      <td>120</td>\n",
       "      <td>80</td>\n",
       "      <td>1</td>\n",
       "      <td>1</td>\n",
       "      <td>1</td>\n",
       "      <td>0</td>\n",
       "      <td>1</td>\n",
       "      <td>0</td>\n",
       "      <td>26.927438</td>\n",
       "      <td>Overweight</td>\n",
       "    </tr>\n",
       "    <tr>\n",
       "      <th>69997</th>\n",
       "      <td>99996</td>\n",
       "      <td>52.2</td>\n",
       "      <td>2</td>\n",
       "      <td>183</td>\n",
       "      <td>105.0</td>\n",
       "      <td>180</td>\n",
       "      <td>90</td>\n",
       "      <td>3</td>\n",
       "      <td>1</td>\n",
       "      <td>0</td>\n",
       "      <td>1</td>\n",
       "      <td>0</td>\n",
       "      <td>1</td>\n",
       "      <td>31.353579</td>\n",
       "      <td>Obese_1</td>\n",
       "    </tr>\n",
       "    <tr>\n",
       "      <th>69998</th>\n",
       "      <td>99998</td>\n",
       "      <td>61.5</td>\n",
       "      <td>1</td>\n",
       "      <td>163</td>\n",
       "      <td>72.0</td>\n",
       "      <td>135</td>\n",
       "      <td>80</td>\n",
       "      <td>1</td>\n",
       "      <td>2</td>\n",
       "      <td>0</td>\n",
       "      <td>0</td>\n",
       "      <td>0</td>\n",
       "      <td>1</td>\n",
       "      <td>27.099251</td>\n",
       "      <td>Overweight</td>\n",
       "    </tr>\n",
       "    <tr>\n",
       "      <th>69999</th>\n",
       "      <td>99999</td>\n",
       "      <td>56.3</td>\n",
       "      <td>1</td>\n",
       "      <td>170</td>\n",
       "      <td>72.0</td>\n",
       "      <td>120</td>\n",
       "      <td>80</td>\n",
       "      <td>2</td>\n",
       "      <td>1</td>\n",
       "      <td>0</td>\n",
       "      <td>0</td>\n",
       "      <td>1</td>\n",
       "      <td>0</td>\n",
       "      <td>24.913495</td>\n",
       "      <td>Normal_range</td>\n",
       "    </tr>\n",
       "  </tbody>\n",
       "</table>\n",
       "<p>69464 rows × 15 columns</p>\n",
       "</div>"
      ],
      "text/plain": [
       "          id   age  gender  height  weight  ap_hi  ap_lo  cholesterol  gluc  \\\n",
       "0          0  50.4       2     168    62.0    110     80            1     1   \n",
       "1          1  55.4       1     156    85.0    140     90            3     1   \n",
       "2          2  51.7       1     165    64.0    130     70            3     1   \n",
       "3          3  48.3       2     169    82.0    150    100            1     1   \n",
       "4          4  47.9       1     156    56.0    100     60            1     1   \n",
       "...      ...   ...     ...     ...     ...    ...    ...          ...   ...   \n",
       "69994  99992  57.7       1     165    80.0    150     80            1     1   \n",
       "69995  99993  52.7       2     168    76.0    120     80            1     1   \n",
       "69997  99996  52.2       2     183   105.0    180     90            3     1   \n",
       "69998  99998  61.5       1     163    72.0    135     80            1     2   \n",
       "69999  99999  56.3       1     170    72.0    120     80            2     1   \n",
       "\n",
       "       smoke  alco  active  cardio        BMI BIM_categories  \n",
       "0          0     0       1       0  21.967120   Normal_range  \n",
       "1          0     0       1       1  34.927679        Obese_1  \n",
       "2          0     0       0       1  23.507805   Normal_range  \n",
       "3          0     0       1       1  28.710479     Overweight  \n",
       "4          0     0       0       0  23.011177   Normal_range  \n",
       "...      ...   ...     ...     ...        ...            ...  \n",
       "69994      0     0       1       1  29.384757     Overweight  \n",
       "69995      1     0       1       0  26.927438     Overweight  \n",
       "69997      0     1       0       1  31.353579        Obese_1  \n",
       "69998      0     0       0       1  27.099251     Overweight  \n",
       "69999      0     0       1       0  24.913495   Normal_range  \n",
       "\n",
       "[69464 rows x 15 columns]"
      ]
     },
     "execution_count": 471,
     "metadata": {},
     "output_type": "execute_result"
    }
   ],
   "source": [
    "cardio_train_BMI[\"BIM_categories\"] = cardio_train_BMI[[\"BMI\"]].apply(lambda x: BIM_categories(*x), axis= 1)\n",
    "cardio_train_BMI"
   ]
  },
  {
   "cell_type": "markdown",
   "metadata": {},
   "source": [
    "## 2.1.1 - Feature engineering blodtryck\n"
   ]
  },
  {
   "cell_type": "code",
   "execution_count": 527,
   "metadata": {},
   "outputs": [
    {
     "data": {
      "text/plain": [
       "(count    69464.000000\n",
       " mean       128.750763\n",
       " std        154.588251\n",
       " min       -150.000000\n",
       " 25%        120.000000\n",
       " 50%        120.000000\n",
       " 75%        140.000000\n",
       " max      16020.000000\n",
       " Name: ap_hi, dtype: float64,\n",
       " count    69464.000000\n",
       " mean        96.401704\n",
       " std        188.411924\n",
       " min        -70.000000\n",
       " 25%         80.000000\n",
       " 50%         80.000000\n",
       " 75%         90.000000\n",
       " max      11000.000000\n",
       " Name: ap_lo, dtype: float64)"
      ]
     },
     "execution_count": 527,
     "metadata": {},
     "output_type": "execute_result"
    }
   ],
   "source": [
    "cardio_train_BMI[\"ap_hi\"].describe(), cardio_train_BMI[\"ap_lo\"].describe()"
   ]
  },
  {
   "cell_type": "code",
   "execution_count": 528,
   "metadata": {},
   "outputs": [
    {
     "data": {
      "text/plain": [
       "<AxesSubplot:>"
      ]
     },
     "execution_count": 528,
     "metadata": {},
     "output_type": "execute_result"
    },
    {
     "data": {
      "image/png": "[encoded data removed]",
      "text/plain": [
       "<Figure size 300x1000 with 1 Axes>"
      ]
     },
     "metadata": {
      "needs_background": "light"
     },
     "output_type": "display_data"
    }
   ],
   "source": [
    "plt.figure(figsize=(3,10), dpi = 100)\n",
    "sns.boxplot(data = cardio_train_BMI[\"ap_hi\"])"
   ]
  },
  {
   "cell_type": "code",
   "execution_count": 529,
   "metadata": {},
   "outputs": [
    {
     "data": {
      "text/plain": [
       "<AxesSubplot:>"
      ]
     },
     "execution_count": 529,
     "metadata": {},
     "output_type": "execute_result"
    },
    {
     "data": {
      "image/png": "[encoded data removed]",
      "text/plain": [
       "<Figure size 300x1000 with 1 Axes>"
      ]
     },
     "metadata": {
      "needs_background": "light"
     },
     "output_type": "display_data"
    }
   ],
   "source": [
    "plt.figure(figsize=(3,10), dpi = 100)\n",
    "sns.boxplot(data = cardio_train_BMI[\"ap_lo\"])"
   ]
  },
  {
   "cell_type": "markdown",
   "metadata": {},
   "source": [
    "- The distributions of ap_hi and ap_lo is highly skewed by some outliers and $std$ is also large consequently. \n",
    "- Based on the healthline's description of blood pressure, I decided to remove some extreme values.\n",
    "- When systolic is over 250 or diastolic over 200, and systolic less than 50 or diastolic less than 30 can lead to human shock/death, so the values beyond the range is no reference value."
   ]
  },
  {
   "cell_type": "code",
   "execution_count": 530,
   "metadata": {},
   "outputs": [
    {
     "data": {
      "text/plain": [
       "(count    68266.000000\n",
       " mean       126.535098\n",
       " std         16.702516\n",
       " min         60.000000\n",
       " 25%        120.000000\n",
       " 50%        120.000000\n",
       " 75%        140.000000\n",
       " max        240.000000\n",
       " Name: ap_hi, dtype: float64,\n",
       " count    68266.000000\n",
       " mean        81.343670\n",
       " std          9.649944\n",
       " min         40.000000\n",
       " 25%         80.000000\n",
       " 50%         80.000000\n",
       " 75%         90.000000\n",
       " max        190.000000\n",
       " Name: ap_lo, dtype: float64)"
      ]
     },
     "execution_count": 530,
     "metadata": {},
     "output_type": "execute_result"
    }
   ],
   "source": [
    "cardio_train_BMI_BP = cardio_train_BMI[(cardio_train_BMI[\"ap_hi\"] < 250) & (cardio_train_BMI[\"ap_lo\"] < 200) & (cardio_train_BMI[\"ap_hi\"]> 50) & (cardio_train_BMI[\"ap_lo\"] > 30)]\n",
    "\n",
    "cardio_train_BMI_BP[\"ap_hi\"].describe(), cardio_train_BMI_BP[\"ap_lo\"].describe()"
   ]
  },
  {
   "cell_type": "code",
   "execution_count": 531,
   "metadata": {},
   "outputs": [],
   "source": [
    "def BP_categories(systolic, diastolic):\n",
    "    if systolic > 180 or diastolic > 120:\n",
    "        return 'Crisis'\n",
    "    elif (140 <= systolic < 180) or (90 <= diastolic < 120):\n",
    "        return 'HBP_stage2'\n",
    "    elif (130 <= systolic < 140) or (80 <= diastolic < 90) :\n",
    "        return 'HBP_stage1'\n",
    "    elif (120 <= systolic < 130) and diastolic < 80:\n",
    "        return 'Elevated'\n",
    "    else:\n",
    "        return 'Healthy'"
   ]
  },
  {
   "cell_type": "code",
   "execution_count": 532,
   "metadata": {},
   "outputs": [
    {
     "name": "stderr",
     "output_type": "stream",
     "text": [
      "C:\\Users\\Kun\\AppData\\Local\\Temp\\ipykernel_15916\\2034785894.py:1: SettingWithCopyWarning: \n",
      "A value is trying to be set on a copy of a slice from a DataFrame.\n",
      "Try using .loc[row_indexer,col_indexer] = value instead\n",
      "\n",
      "See the caveats in the documentation: https://pandas.pydata.org/pandas-docs/stable/user_guide/indexing.html#returning-a-view-versus-a-copy\n",
      "  cardio_train_BMI_BP['HTN_stage'] = cardio_train_BMI_BP[['ap_hi', 'ap_lo']].apply(lambda x: BP_categories(*x), axis= 1)\n"
     ]
    },
    {
     "data": {
      "text/html": [
       "<div>\n",
       "<style scoped>\n",
       "    .dataframe tbody tr th:only-of-type {\n",
       "        vertical-align: middle;\n",
       "    }\n",
       "\n",
       "    .dataframe tbody tr th {\n",
       "        vertical-align: top;\n",
       "    }\n",
       "\n",
       "    .dataframe thead th {\n",
       "        text-align: right;\n",
       "    }\n",
       "</style>\n",
       "<table border=\"1\" class=\"dataframe\">\n",
       "  <thead>\n",
       "    <tr style=\"text-align: right;\">\n",
       "      <th></th>\n",
       "      <th>id</th>\n",
       "      <th>age</th>\n",
       "      <th>gender</th>\n",
       "      <th>height</th>\n",
       "      <th>weight</th>\n",
       "      <th>ap_hi</th>\n",
       "      <th>ap_lo</th>\n",
       "      <th>cholesterol</th>\n",
       "      <th>gluc</th>\n",
       "      <th>smoke</th>\n",
       "      <th>alco</th>\n",
       "      <th>active</th>\n",
       "      <th>cardio</th>\n",
       "      <th>BMI</th>\n",
       "      <th>BIM_categories</th>\n",
       "      <th>HTN_stage</th>\n",
       "    </tr>\n",
       "  </thead>\n",
       "  <tbody>\n",
       "    <tr>\n",
       "      <th>0</th>\n",
       "      <td>0</td>\n",
       "      <td>50.4</td>\n",
       "      <td>2</td>\n",
       "      <td>168</td>\n",
       "      <td>62.0</td>\n",
       "      <td>110</td>\n",
       "      <td>80</td>\n",
       "      <td>1</td>\n",
       "      <td>1</td>\n",
       "      <td>0</td>\n",
       "      <td>0</td>\n",
       "      <td>1</td>\n",
       "      <td>0</td>\n",
       "      <td>21.967120</td>\n",
       "      <td>Normal_range</td>\n",
       "      <td>HBP_stage1</td>\n",
       "    </tr>\n",
       "    <tr>\n",
       "      <th>1</th>\n",
       "      <td>1</td>\n",
       "      <td>55.4</td>\n",
       "      <td>1</td>\n",
       "      <td>156</td>\n",
       "      <td>85.0</td>\n",
       "      <td>140</td>\n",
       "      <td>90</td>\n",
       "      <td>3</td>\n",
       "      <td>1</td>\n",
       "      <td>0</td>\n",
       "      <td>0</td>\n",
       "      <td>1</td>\n",
       "      <td>1</td>\n",
       "      <td>34.927679</td>\n",
       "      <td>Obese_1</td>\n",
       "      <td>HBP_stage2</td>\n",
       "    </tr>\n",
       "    <tr>\n",
       "      <th>2</th>\n",
       "      <td>2</td>\n",
       "      <td>51.7</td>\n",
       "      <td>1</td>\n",
       "      <td>165</td>\n",
       "      <td>64.0</td>\n",
       "      <td>130</td>\n",
       "      <td>70</td>\n",
       "      <td>3</td>\n",
       "      <td>1</td>\n",
       "      <td>0</td>\n",
       "      <td>0</td>\n",
       "      <td>0</td>\n",
       "      <td>1</td>\n",
       "      <td>23.507805</td>\n",
       "      <td>Normal_range</td>\n",
       "      <td>HBP_stage1</td>\n",
       "    </tr>\n",
       "    <tr>\n",
       "      <th>3</th>\n",
       "      <td>3</td>\n",
       "      <td>48.3</td>\n",
       "      <td>2</td>\n",
       "      <td>169</td>\n",
       "      <td>82.0</td>\n",
       "      <td>150</td>\n",
       "      <td>100</td>\n",
       "      <td>1</td>\n",
       "      <td>1</td>\n",
       "      <td>0</td>\n",
       "      <td>0</td>\n",
       "      <td>1</td>\n",
       "      <td>1</td>\n",
       "      <td>28.710479</td>\n",
       "      <td>Overweight</td>\n",
       "      <td>HBP_stage2</td>\n",
       "    </tr>\n",
       "    <tr>\n",
       "      <th>4</th>\n",
       "      <td>4</td>\n",
       "      <td>47.9</td>\n",
       "      <td>1</td>\n",
       "      <td>156</td>\n",
       "      <td>56.0</td>\n",
       "      <td>100</td>\n",
       "      <td>60</td>\n",
       "      <td>1</td>\n",
       "      <td>1</td>\n",
       "      <td>0</td>\n",
       "      <td>0</td>\n",
       "      <td>0</td>\n",
       "      <td>0</td>\n",
       "      <td>23.011177</td>\n",
       "      <td>Normal_range</td>\n",
       "      <td>Healthy</td>\n",
       "    </tr>\n",
       "    <tr>\n",
       "      <th>...</th>\n",
       "      <td>...</td>\n",
       "      <td>...</td>\n",
       "      <td>...</td>\n",
       "      <td>...</td>\n",
       "      <td>...</td>\n",
       "      <td>...</td>\n",
       "      <td>...</td>\n",
       "      <td>...</td>\n",
       "      <td>...</td>\n",
       "      <td>...</td>\n",
       "      <td>...</td>\n",
       "      <td>...</td>\n",
       "      <td>...</td>\n",
       "      <td>...</td>\n",
       "      <td>...</td>\n",
       "      <td>...</td>\n",
       "    </tr>\n",
       "    <tr>\n",
       "      <th>69994</th>\n",
       "      <td>99992</td>\n",
       "      <td>57.7</td>\n",
       "      <td>1</td>\n",
       "      <td>165</td>\n",
       "      <td>80.0</td>\n",
       "      <td>150</td>\n",
       "      <td>80</td>\n",
       "      <td>1</td>\n",
       "      <td>1</td>\n",
       "      <td>0</td>\n",
       "      <td>0</td>\n",
       "      <td>1</td>\n",
       "      <td>1</td>\n",
       "      <td>29.384757</td>\n",
       "      <td>Overweight</td>\n",
       "      <td>HBP_stage2</td>\n",
       "    </tr>\n",
       "    <tr>\n",
       "      <th>69995</th>\n",
       "      <td>99993</td>\n",
       "      <td>52.7</td>\n",
       "      <td>2</td>\n",
       "      <td>168</td>\n",
       "      <td>76.0</td>\n",
       "      <td>120</td>\n",
       "      <td>80</td>\n",
       "      <td>1</td>\n",
       "      <td>1</td>\n",
       "      <td>1</td>\n",
       "      <td>0</td>\n",
       "      <td>1</td>\n",
       "      <td>0</td>\n",
       "      <td>26.927438</td>\n",
       "      <td>Overweight</td>\n",
       "      <td>HBP_stage1</td>\n",
       "    </tr>\n",
       "    <tr>\n",
       "      <th>69997</th>\n",
       "      <td>99996</td>\n",
       "      <td>52.2</td>\n",
       "      <td>2</td>\n",
       "      <td>183</td>\n",
       "      <td>105.0</td>\n",
       "      <td>180</td>\n",
       "      <td>90</td>\n",
       "      <td>3</td>\n",
       "      <td>1</td>\n",
       "      <td>0</td>\n",
       "      <td>1</td>\n",
       "      <td>0</td>\n",
       "      <td>1</td>\n",
       "      <td>31.353579</td>\n",
       "      <td>Obese_1</td>\n",
       "      <td>HBP_stage2</td>\n",
       "    </tr>\n",
       "    <tr>\n",
       "      <th>69998</th>\n",
       "      <td>99998</td>\n",
       "      <td>61.5</td>\n",
       "      <td>1</td>\n",
       "      <td>163</td>\n",
       "      <td>72.0</td>\n",
       "      <td>135</td>\n",
       "      <td>80</td>\n",
       "      <td>1</td>\n",
       "      <td>2</td>\n",
       "      <td>0</td>\n",
       "      <td>0</td>\n",
       "      <td>0</td>\n",
       "      <td>1</td>\n",
       "      <td>27.099251</td>\n",
       "      <td>Overweight</td>\n",
       "      <td>HBP_stage1</td>\n",
       "    </tr>\n",
       "    <tr>\n",
       "      <th>69999</th>\n",
       "      <td>99999</td>\n",
       "      <td>56.3</td>\n",
       "      <td>1</td>\n",
       "      <td>170</td>\n",
       "      <td>72.0</td>\n",
       "      <td>120</td>\n",
       "      <td>80</td>\n",
       "      <td>2</td>\n",
       "      <td>1</td>\n",
       "      <td>0</td>\n",
       "      <td>0</td>\n",
       "      <td>1</td>\n",
       "      <td>0</td>\n",
       "      <td>24.913495</td>\n",
       "      <td>Normal_range</td>\n",
       "      <td>HBP_stage1</td>\n",
       "    </tr>\n",
       "  </tbody>\n",
       "</table>\n",
       "<p>68266 rows × 16 columns</p>\n",
       "</div>"
      ],
      "text/plain": [
       "          id   age  gender  height  weight  ap_hi  ap_lo  cholesterol  gluc  \\\n",
       "0          0  50.4       2     168    62.0    110     80            1     1   \n",
       "1          1  55.4       1     156    85.0    140     90            3     1   \n",
       "2          2  51.7       1     165    64.0    130     70            3     1   \n",
       "3          3  48.3       2     169    82.0    150    100            1     1   \n",
       "4          4  47.9       1     156    56.0    100     60            1     1   \n",
       "...      ...   ...     ...     ...     ...    ...    ...          ...   ...   \n",
       "69994  99992  57.7       1     165    80.0    150     80            1     1   \n",
       "69995  99993  52.7       2     168    76.0    120     80            1     1   \n",
       "69997  99996  52.2       2     183   105.0    180     90            3     1   \n",
       "69998  99998  61.5       1     163    72.0    135     80            1     2   \n",
       "69999  99999  56.3       1     170    72.0    120     80            2     1   \n",
       "\n",
       "       smoke  alco  active  cardio        BMI BIM_categories   HTN_stage  \n",
       "0          0     0       1       0  21.967120   Normal_range  HBP_stage1  \n",
       "1          0     0       1       1  34.927679        Obese_1  HBP_stage2  \n",
       "2          0     0       0       1  23.507805   Normal_range  HBP_stage1  \n",
       "3          0     0       1       1  28.710479     Overweight  HBP_stage2  \n",
       "4          0     0       0       0  23.011177   Normal_range     Healthy  \n",
       "...      ...   ...     ...     ...        ...            ...         ...  \n",
       "69994      0     0       1       1  29.384757     Overweight  HBP_stage2  \n",
       "69995      1     0       1       0  26.927438     Overweight  HBP_stage1  \n",
       "69997      0     1       0       1  31.353579        Obese_1  HBP_stage2  \n",
       "69998      0     0       0       1  27.099251     Overweight  HBP_stage1  \n",
       "69999      0     0       1       0  24.913495   Normal_range  HBP_stage1  \n",
       "\n",
       "[68266 rows x 16 columns]"
      ]
     },
     "execution_count": 532,
     "metadata": {},
     "output_type": "execute_result"
    }
   ],
   "source": [
    "cardio_train_BMI_BP['HTN_stage'] = cardio_train_BMI_BP[['ap_hi', 'ap_lo']].apply(lambda x: BP_categories(*x), axis= 1)\n",
    "cardio_train_BMI_BP"
   ]
  },
  {
   "cell_type": "markdown",
   "metadata": {},
   "source": [
    "-  Categarical method reference to \n",
    "- https://www.kaggle.com/code/cassienutter/cvd-classification-with-eda-models-hyperparams"
   ]
  },
  {
   "cell_type": "markdown",
   "metadata": {},
   "source": [
    "## 2.2.0 - Visualiseringar andel sjukdomar\n"
   ]
  },
  {
   "cell_type": "code",
   "execution_count": 533,
   "metadata": {},
   "outputs": [
    {
     "data": {
      "text/plain": [
       "Text(0.5, 0.98, 'Features against the proportion positive for cardiovascular disease')"
      ]
     },
     "execution_count": 533,
     "metadata": {},
     "output_type": "execute_result"
    },
    {
     "data": {
      "image/png": "[encoded data removed]",
      "text/plain": [
       "<Figure size 1500x800 with 4 Axes>"
      ]
     },
     "metadata": {
      "needs_background": "light"
     },
     "output_type": "display_data"
    }
   ],
   "source": [
    "fig, axes = plt.subplots(2, 2, figsize=(15, 8), dpi=100)\n",
    "sns.barplot(data = cardio_train_BMI_BP, x = \"BIM_categories\", y = \"cardio\", ax = axes[0,0])\n",
    "sns.barplot(data = cardio_train_BMI_BP, x = \"HTN_stage\", y = \"cardio\", ax = axes[0,1])\n",
    "sns.barplot(data = cardio_train_BMI_BP, x = \"cholesterol\", y = \"cardio\", ax = axes[1,0]).set_xticklabels([\"Normal\", \"Above Normal\", \"Well Above Normal\"])\n",
    "sns.barplot(data = cardio_train_BMI_BP, x = \"gluc\", y = \"cardio\", ax = axes[1,1]).set_xticklabels([\"Normal\", \"Above Normal\", \"Well Above Normal\"])\n",
    "\n",
    "fig.suptitle(\"Features against the proportion positive for cardiovascular disease\")"
   ]
  },
  {
   "cell_type": "markdown",
   "metadata": {},
   "source": [
    "## 2.2.1 - Visualiseringar korrelation"
   ]
  },
  {
   "cell_type": "code",
   "execution_count": 534,
   "metadata": {},
   "outputs": [
    {
     "data": {
      "text/html": [
       "<div>\n",
       "<style scoped>\n",
       "    .dataframe tbody tr th:only-of-type {\n",
       "        vertical-align: middle;\n",
       "    }\n",
       "\n",
       "    .dataframe tbody tr th {\n",
       "        vertical-align: top;\n",
       "    }\n",
       "\n",
       "    .dataframe thead th {\n",
       "        text-align: right;\n",
       "    }\n",
       "</style>\n",
       "<table border=\"1\" class=\"dataframe\">\n",
       "  <thead>\n",
       "    <tr style=\"text-align: right;\">\n",
       "      <th></th>\n",
       "      <th>age</th>\n",
       "      <th>gender</th>\n",
       "      <th>height</th>\n",
       "      <th>weight</th>\n",
       "      <th>ap_hi</th>\n",
       "      <th>ap_lo</th>\n",
       "      <th>cholesterol</th>\n",
       "      <th>gluc</th>\n",
       "      <th>smoke</th>\n",
       "      <th>alco</th>\n",
       "      <th>active</th>\n",
       "      <th>cardio</th>\n",
       "      <th>BMI</th>\n",
       "    </tr>\n",
       "  </thead>\n",
       "  <tbody>\n",
       "    <tr>\n",
       "      <th>0</th>\n",
       "      <td>50.4</td>\n",
       "      <td>2</td>\n",
       "      <td>168</td>\n",
       "      <td>62.0</td>\n",
       "      <td>110</td>\n",
       "      <td>80</td>\n",
       "      <td>1</td>\n",
       "      <td>1</td>\n",
       "      <td>0</td>\n",
       "      <td>0</td>\n",
       "      <td>1</td>\n",
       "      <td>0</td>\n",
       "      <td>21.967120</td>\n",
       "    </tr>\n",
       "    <tr>\n",
       "      <th>1</th>\n",
       "      <td>55.4</td>\n",
       "      <td>1</td>\n",
       "      <td>156</td>\n",
       "      <td>85.0</td>\n",
       "      <td>140</td>\n",
       "      <td>90</td>\n",
       "      <td>3</td>\n",
       "      <td>1</td>\n",
       "      <td>0</td>\n",
       "      <td>0</td>\n",
       "      <td>1</td>\n",
       "      <td>1</td>\n",
       "      <td>34.927679</td>\n",
       "    </tr>\n",
       "    <tr>\n",
       "      <th>2</th>\n",
       "      <td>51.7</td>\n",
       "      <td>1</td>\n",
       "      <td>165</td>\n",
       "      <td>64.0</td>\n",
       "      <td>130</td>\n",
       "      <td>70</td>\n",
       "      <td>3</td>\n",
       "      <td>1</td>\n",
       "      <td>0</td>\n",
       "      <td>0</td>\n",
       "      <td>0</td>\n",
       "      <td>1</td>\n",
       "      <td>23.507805</td>\n",
       "    </tr>\n",
       "    <tr>\n",
       "      <th>3</th>\n",
       "      <td>48.3</td>\n",
       "      <td>2</td>\n",
       "      <td>169</td>\n",
       "      <td>82.0</td>\n",
       "      <td>150</td>\n",
       "      <td>100</td>\n",
       "      <td>1</td>\n",
       "      <td>1</td>\n",
       "      <td>0</td>\n",
       "      <td>0</td>\n",
       "      <td>1</td>\n",
       "      <td>1</td>\n",
       "      <td>28.710479</td>\n",
       "    </tr>\n",
       "    <tr>\n",
       "      <th>4</th>\n",
       "      <td>47.9</td>\n",
       "      <td>1</td>\n",
       "      <td>156</td>\n",
       "      <td>56.0</td>\n",
       "      <td>100</td>\n",
       "      <td>60</td>\n",
       "      <td>1</td>\n",
       "      <td>1</td>\n",
       "      <td>0</td>\n",
       "      <td>0</td>\n",
       "      <td>0</td>\n",
       "      <td>0</td>\n",
       "      <td>23.011177</td>\n",
       "    </tr>\n",
       "    <tr>\n",
       "      <th>...</th>\n",
       "      <td>...</td>\n",
       "      <td>...</td>\n",
       "      <td>...</td>\n",
       "      <td>...</td>\n",
       "      <td>...</td>\n",
       "      <td>...</td>\n",
       "      <td>...</td>\n",
       "      <td>...</td>\n",
       "      <td>...</td>\n",
       "      <td>...</td>\n",
       "      <td>...</td>\n",
       "      <td>...</td>\n",
       "      <td>...</td>\n",
       "    </tr>\n",
       "    <tr>\n",
       "      <th>69994</th>\n",
       "      <td>57.7</td>\n",
       "      <td>1</td>\n",
       "      <td>165</td>\n",
       "      <td>80.0</td>\n",
       "      <td>150</td>\n",
       "      <td>80</td>\n",
       "      <td>1</td>\n",
       "      <td>1</td>\n",
       "      <td>0</td>\n",
       "      <td>0</td>\n",
       "      <td>1</td>\n",
       "      <td>1</td>\n",
       "      <td>29.384757</td>\n",
       "    </tr>\n",
       "    <tr>\n",
       "      <th>69995</th>\n",
       "      <td>52.7</td>\n",
       "      <td>2</td>\n",
       "      <td>168</td>\n",
       "      <td>76.0</td>\n",
       "      <td>120</td>\n",
       "      <td>80</td>\n",
       "      <td>1</td>\n",
       "      <td>1</td>\n",
       "      <td>1</td>\n",
       "      <td>0</td>\n",
       "      <td>1</td>\n",
       "      <td>0</td>\n",
       "      <td>26.927438</td>\n",
       "    </tr>\n",
       "    <tr>\n",
       "      <th>69997</th>\n",
       "      <td>52.2</td>\n",
       "      <td>2</td>\n",
       "      <td>183</td>\n",
       "      <td>105.0</td>\n",
       "      <td>180</td>\n",
       "      <td>90</td>\n",
       "      <td>3</td>\n",
       "      <td>1</td>\n",
       "      <td>0</td>\n",
       "      <td>1</td>\n",
       "      <td>0</td>\n",
       "      <td>1</td>\n",
       "      <td>31.353579</td>\n",
       "    </tr>\n",
       "    <tr>\n",
       "      <th>69998</th>\n",
       "      <td>61.5</td>\n",
       "      <td>1</td>\n",
       "      <td>163</td>\n",
       "      <td>72.0</td>\n",
       "      <td>135</td>\n",
       "      <td>80</td>\n",
       "      <td>1</td>\n",
       "      <td>2</td>\n",
       "      <td>0</td>\n",
       "      <td>0</td>\n",
       "      <td>0</td>\n",
       "      <td>1</td>\n",
       "      <td>27.099251</td>\n",
       "    </tr>\n",
       "    <tr>\n",
       "      <th>69999</th>\n",
       "      <td>56.3</td>\n",
       "      <td>1</td>\n",
       "      <td>170</td>\n",
       "      <td>72.0</td>\n",
       "      <td>120</td>\n",
       "      <td>80</td>\n",
       "      <td>2</td>\n",
       "      <td>1</td>\n",
       "      <td>0</td>\n",
       "      <td>0</td>\n",
       "      <td>1</td>\n",
       "      <td>0</td>\n",
       "      <td>24.913495</td>\n",
       "    </tr>\n",
       "  </tbody>\n",
       "</table>\n",
       "<p>68266 rows × 13 columns</p>\n",
       "</div>"
      ],
      "text/plain": [
       "        age  gender  height  weight  ap_hi  ap_lo  cholesterol  gluc  smoke  \\\n",
       "0      50.4       2     168    62.0    110     80            1     1      0   \n",
       "1      55.4       1     156    85.0    140     90            3     1      0   \n",
       "2      51.7       1     165    64.0    130     70            3     1      0   \n",
       "3      48.3       2     169    82.0    150    100            1     1      0   \n",
       "4      47.9       1     156    56.0    100     60            1     1      0   \n",
       "...     ...     ...     ...     ...    ...    ...          ...   ...    ...   \n",
       "69994  57.7       1     165    80.0    150     80            1     1      0   \n",
       "69995  52.7       2     168    76.0    120     80            1     1      1   \n",
       "69997  52.2       2     183   105.0    180     90            3     1      0   \n",
       "69998  61.5       1     163    72.0    135     80            1     2      0   \n",
       "69999  56.3       1     170    72.0    120     80            2     1      0   \n",
       "\n",
       "       alco  active  cardio        BMI  \n",
       "0         0       1       0  21.967120  \n",
       "1         0       1       1  34.927679  \n",
       "2         0       0       1  23.507805  \n",
       "3         0       1       1  28.710479  \n",
       "4         0       0       0  23.011177  \n",
       "...     ...     ...     ...        ...  \n",
       "69994     0       1       1  29.384757  \n",
       "69995     0       1       0  26.927438  \n",
       "69997     1       0       1  31.353579  \n",
       "69998     0       0       1  27.099251  \n",
       "69999     0       1       0  24.913495  \n",
       "\n",
       "[68266 rows x 13 columns]"
      ]
     },
     "execution_count": 534,
     "metadata": {},
     "output_type": "execute_result"
    }
   ],
   "source": [
    "cardio_train_corr = cardio_train_BMI_BP.drop(columns=['id', 'BIM_categories', 'HTN_stage'])\n",
    "cardio_train_corr"
   ]
  },
  {
   "cell_type": "code",
   "execution_count": 535,
   "metadata": {},
   "outputs": [
    {
     "data": {
      "text/plain": [
       "Text(0.5, 1.0, 'Correlation between Features')"
      ]
     },
     "execution_count": 535,
     "metadata": {},
     "output_type": "execute_result"
    },
    {
     "data": {
      "image/png": "[encoded data removed]",
      "text/plain": [
       "<Figure size 1200x1000 with 2 Axes>"
      ]
     },
     "metadata": {
      "needs_background": "light"
     },
     "output_type": "display_data"
    }
   ],
   "source": [
    "plt.figure(figsize=(12,10), dpi = 100)\n",
    "sns.heatmap(cardio_train_corr.corr(), vmax=.3, annot=True, cmap= 'coolwarm')\n",
    "plt.title(\"Correlation between Features\")"
   ]
  },
  {
   "cell_type": "markdown",
   "metadata": {},
   "source": [
    "### |corr| > 0.4 :\n",
    "- weight vs BMI $(corr = 0.85)$ : Fat is one of the causation of high BMI\n",
    "- height vs gender $(corr = 0.52)$: males is more higher than females on average\n",
    "- cardio vs ap_hi & ap_lo $(corr = 0.43, 0.33)$ : cardiovascular disease seems a slightly relation with blood pressure\n",
    "- Glucose vs cholesterol $(corr = 0.45)$: Glucose intake has a certain effect on cholesterol levels.\n",
    "- ap_hi vs ap_lo $(corr = 0.7)$: Bloodpressure(High_Low) highly cooralated each other. "
   ]
  },
  {
   "cell_type": "markdown",
   "metadata": {},
   "source": [
    "## 2.3 - Skapa två dataset"
   ]
  },
  {
   "cell_type": "markdown",
   "metadata": {},
   "source": [
    "### dataset 1"
   ]
  },
  {
   "cell_type": "code",
   "execution_count": 555,
   "metadata": {},
   "outputs": [
    {
     "data": {
      "text/html": [
       "<div>\n",
       "<style scoped>\n",
       "    .dataframe tbody tr th:only-of-type {\n",
       "        vertical-align: middle;\n",
       "    }\n",
       "\n",
       "    .dataframe tbody tr th {\n",
       "        vertical-align: top;\n",
       "    }\n",
       "\n",
       "    .dataframe thead th {\n",
       "        text-align: right;\n",
       "    }\n",
       "</style>\n",
       "<table border=\"1\" class=\"dataframe\">\n",
       "  <thead>\n",
       "    <tr style=\"text-align: right;\">\n",
       "      <th></th>\n",
       "      <th>id</th>\n",
       "      <th>age</th>\n",
       "      <th>gender</th>\n",
       "      <th>cholesterol</th>\n",
       "      <th>gluc</th>\n",
       "      <th>smoke</th>\n",
       "      <th>alco</th>\n",
       "      <th>active</th>\n",
       "      <th>cardio</th>\n",
       "      <th>BIM_categories</th>\n",
       "      <th>HTN_stage</th>\n",
       "    </tr>\n",
       "  </thead>\n",
       "  <tbody>\n",
       "    <tr>\n",
       "      <th>0</th>\n",
       "      <td>0</td>\n",
       "      <td>50.4</td>\n",
       "      <td>2</td>\n",
       "      <td>1</td>\n",
       "      <td>1</td>\n",
       "      <td>0</td>\n",
       "      <td>0</td>\n",
       "      <td>1</td>\n",
       "      <td>0</td>\n",
       "      <td>Normal_range</td>\n",
       "      <td>HBP_stage1</td>\n",
       "    </tr>\n",
       "  </tbody>\n",
       "</table>\n",
       "</div>"
      ],
      "text/plain": [
       "   id   age  gender  cholesterol  gluc  smoke  alco  active  cardio  \\\n",
       "0   0  50.4       2            1     1      0     0       1       0   \n",
       "\n",
       "  BIM_categories   HTN_stage  \n",
       "0   Normal_range  HBP_stage1  "
      ]
     },
     "execution_count": 555,
     "metadata": {},
     "output_type": "execute_result"
    }
   ],
   "source": [
    "df_categorical_1 = cardio_train_BMI_BP.drop([\"ap_hi\", \"ap_lo\", \"height\", \"weight\", \"BMI\"], axis=1)\n",
    "df_categorical_1[:1]"
   ]
  },
  {
   "cell_type": "code",
   "execution_count": 560,
   "metadata": {},
   "outputs": [
    {
     "data": {
      "text/html": [
       "<div>\n",
       "<style scoped>\n",
       "    .dataframe tbody tr th:only-of-type {\n",
       "        vertical-align: middle;\n",
       "    }\n",
       "\n",
       "    .dataframe tbody tr th {\n",
       "        vertical-align: top;\n",
       "    }\n",
       "\n",
       "    .dataframe thead th {\n",
       "        text-align: right;\n",
       "    }\n",
       "</style>\n",
       "<table border=\"1\" class=\"dataframe\">\n",
       "  <thead>\n",
       "    <tr style=\"text-align: right;\">\n",
       "      <th></th>\n",
       "      <th>id</th>\n",
       "      <th>age</th>\n",
       "      <th>smoke</th>\n",
       "      <th>alco</th>\n",
       "      <th>active</th>\n",
       "      <th>cardio</th>\n",
       "      <th>gender_1</th>\n",
       "      <th>gender_2</th>\n",
       "      <th>cholesterol_1</th>\n",
       "      <th>cholesterol_2</th>\n",
       "      <th>...</th>\n",
       "      <th>BIM_categories_Obese_1</th>\n",
       "      <th>BIM_categories_Obese_2</th>\n",
       "      <th>BIM_categories_Obese_3</th>\n",
       "      <th>BIM_categories_Overweight</th>\n",
       "      <th>BIM_categories_Underweight</th>\n",
       "      <th>HTN_stage_Crisis</th>\n",
       "      <th>HTN_stage_Elevated</th>\n",
       "      <th>HTN_stage_HBP_stage1</th>\n",
       "      <th>HTN_stage_HBP_stage2</th>\n",
       "      <th>HTN_stage_Healthy</th>\n",
       "    </tr>\n",
       "  </thead>\n",
       "  <tbody>\n",
       "    <tr>\n",
       "      <th>0</th>\n",
       "      <td>0</td>\n",
       "      <td>50.4</td>\n",
       "      <td>0</td>\n",
       "      <td>0</td>\n",
       "      <td>1</td>\n",
       "      <td>0</td>\n",
       "      <td>0</td>\n",
       "      <td>1</td>\n",
       "      <td>1</td>\n",
       "      <td>0</td>\n",
       "      <td>...</td>\n",
       "      <td>0</td>\n",
       "      <td>0</td>\n",
       "      <td>0</td>\n",
       "      <td>0</td>\n",
       "      <td>0</td>\n",
       "      <td>0</td>\n",
       "      <td>0</td>\n",
       "      <td>1</td>\n",
       "      <td>0</td>\n",
       "      <td>0</td>\n",
       "    </tr>\n",
       "    <tr>\n",
       "      <th>1</th>\n",
       "      <td>1</td>\n",
       "      <td>55.4</td>\n",
       "      <td>0</td>\n",
       "      <td>0</td>\n",
       "      <td>1</td>\n",
       "      <td>1</td>\n",
       "      <td>1</td>\n",
       "      <td>0</td>\n",
       "      <td>0</td>\n",
       "      <td>0</td>\n",
       "      <td>...</td>\n",
       "      <td>1</td>\n",
       "      <td>0</td>\n",
       "      <td>0</td>\n",
       "      <td>0</td>\n",
       "      <td>0</td>\n",
       "      <td>0</td>\n",
       "      <td>0</td>\n",
       "      <td>0</td>\n",
       "      <td>1</td>\n",
       "      <td>0</td>\n",
       "    </tr>\n",
       "    <tr>\n",
       "      <th>2</th>\n",
       "      <td>2</td>\n",
       "      <td>51.7</td>\n",
       "      <td>0</td>\n",
       "      <td>0</td>\n",
       "      <td>0</td>\n",
       "      <td>1</td>\n",
       "      <td>1</td>\n",
       "      <td>0</td>\n",
       "      <td>0</td>\n",
       "      <td>0</td>\n",
       "      <td>...</td>\n",
       "      <td>0</td>\n",
       "      <td>0</td>\n",
       "      <td>0</td>\n",
       "      <td>0</td>\n",
       "      <td>0</td>\n",
       "      <td>0</td>\n",
       "      <td>0</td>\n",
       "      <td>1</td>\n",
       "      <td>0</td>\n",
       "      <td>0</td>\n",
       "    </tr>\n",
       "    <tr>\n",
       "      <th>3</th>\n",
       "      <td>3</td>\n",
       "      <td>48.3</td>\n",
       "      <td>0</td>\n",
       "      <td>0</td>\n",
       "      <td>1</td>\n",
       "      <td>1</td>\n",
       "      <td>0</td>\n",
       "      <td>1</td>\n",
       "      <td>1</td>\n",
       "      <td>0</td>\n",
       "      <td>...</td>\n",
       "      <td>0</td>\n",
       "      <td>0</td>\n",
       "      <td>0</td>\n",
       "      <td>1</td>\n",
       "      <td>0</td>\n",
       "      <td>0</td>\n",
       "      <td>0</td>\n",
       "      <td>0</td>\n",
       "      <td>1</td>\n",
       "      <td>0</td>\n",
       "    </tr>\n",
       "    <tr>\n",
       "      <th>4</th>\n",
       "      <td>4</td>\n",
       "      <td>47.9</td>\n",
       "      <td>0</td>\n",
       "      <td>0</td>\n",
       "      <td>0</td>\n",
       "      <td>0</td>\n",
       "      <td>1</td>\n",
       "      <td>0</td>\n",
       "      <td>1</td>\n",
       "      <td>0</td>\n",
       "      <td>...</td>\n",
       "      <td>0</td>\n",
       "      <td>0</td>\n",
       "      <td>0</td>\n",
       "      <td>0</td>\n",
       "      <td>0</td>\n",
       "      <td>0</td>\n",
       "      <td>0</td>\n",
       "      <td>0</td>\n",
       "      <td>0</td>\n",
       "      <td>1</td>\n",
       "    </tr>\n",
       "  </tbody>\n",
       "</table>\n",
       "<p>5 rows × 25 columns</p>\n",
       "</div>"
      ],
      "text/plain": [
       "   id   age  smoke  alco  active  cardio  gender_1  gender_2  cholesterol_1  \\\n",
       "0   0  50.4      0     0       1       0         0         1              1   \n",
       "1   1  55.4      0     0       1       1         1         0              0   \n",
       "2   2  51.7      0     0       0       1         1         0              0   \n",
       "3   3  48.3      0     0       1       1         0         1              1   \n",
       "4   4  47.9      0     0       0       0         1         0              1   \n",
       "\n",
       "   cholesterol_2  ...  BIM_categories_Obese_1  BIM_categories_Obese_2  \\\n",
       "0              0  ...                       0                       0   \n",
       "1              0  ...                       1                       0   \n",
       "2              0  ...                       0                       0   \n",
       "3              0  ...                       0                       0   \n",
       "4              0  ...                       0                       0   \n",
       "\n",
       "   BIM_categories_Obese_3  BIM_categories_Overweight  \\\n",
       "0                       0                          0   \n",
       "1                       0                          0   \n",
       "2                       0                          0   \n",
       "3                       0                          1   \n",
       "4                       0                          0   \n",
       "\n",
       "   BIM_categories_Underweight  HTN_stage_Crisis  HTN_stage_Elevated  \\\n",
       "0                           0                 0                   0   \n",
       "1                           0                 0                   0   \n",
       "2                           0                 0                   0   \n",
       "3                           0                 0                   0   \n",
       "4                           0                 0                   0   \n",
       "\n",
       "   HTN_stage_HBP_stage1  HTN_stage_HBP_stage2  HTN_stage_Healthy  \n",
       "0                     1                     0                  0  \n",
       "1                     0                     1                  0  \n",
       "2                     1                     0                  0  \n",
       "3                     0                     1                  0  \n",
       "4                     0                     0                  1  \n",
       "\n",
       "[5 rows x 25 columns]"
      ]
     },
     "execution_count": 560,
     "metadata": {},
     "output_type": "execute_result"
    }
   ],
   "source": [
    "df_categorical_dummies_1 = pd.get_dummies(df_categorical_1, columns=[\"gender\", \"cholesterol\", \"gluc\", \"BIM_categories\", \"HTN_stage\"])\n",
    "df_categorical_dummies_1[:5]"
   ]
  },
  {
   "cell_type": "code",
   "execution_count": 569,
   "metadata": {},
   "outputs": [
    {
     "data": {
      "text/plain": [
       "Index(['id', 'age', 'smoke', 'alco', 'active', 'cardio', 'gender_1',\n",
       "       'gender_2', 'cholesterol_1', 'cholesterol_2', 'cholesterol_3', 'gluc_1',\n",
       "       'gluc_2', 'gluc_3', 'BIM_categories_Normal_range',\n",
       "       'BIM_categories_Obese_1', 'BIM_categories_Obese_2',\n",
       "       'BIM_categories_Obese_3', 'BIM_categories_Overweight',\n",
       "       'BIM_categories_Underweight', 'HTN_stage_Crisis', 'HTN_stage_Elevated',\n",
       "       'HTN_stage_HBP_stage1', 'HTN_stage_HBP_stage2', 'HTN_stage_Healthy'],\n",
       "      dtype='object')"
      ]
     },
     "execution_count": 569,
     "metadata": {},
     "output_type": "execute_result"
    }
   ],
   "source": [
    "df_categorical_dummies_1.columns"
   ]
  },
  {
   "cell_type": "markdown",
   "metadata": {},
   "source": [
    "### dataset 2"
   ]
  },
  {
   "cell_type": "code",
   "execution_count": 557,
   "metadata": {},
   "outputs": [
    {
     "data": {
      "text/html": [
       "<div>\n",
       "<style scoped>\n",
       "    .dataframe tbody tr th:only-of-type {\n",
       "        vertical-align: middle;\n",
       "    }\n",
       "\n",
       "    .dataframe tbody tr th {\n",
       "        vertical-align: top;\n",
       "    }\n",
       "\n",
       "    .dataframe thead th {\n",
       "        text-align: right;\n",
       "    }\n",
       "</style>\n",
       "<table border=\"1\" class=\"dataframe\">\n",
       "  <thead>\n",
       "    <tr style=\"text-align: right;\">\n",
       "      <th></th>\n",
       "      <th>id</th>\n",
       "      <th>age</th>\n",
       "      <th>gender</th>\n",
       "      <th>ap_hi</th>\n",
       "      <th>ap_lo</th>\n",
       "      <th>cholesterol</th>\n",
       "      <th>gluc</th>\n",
       "      <th>smoke</th>\n",
       "      <th>alco</th>\n",
       "      <th>active</th>\n",
       "      <th>cardio</th>\n",
       "      <th>BMI</th>\n",
       "    </tr>\n",
       "  </thead>\n",
       "  <tbody>\n",
       "    <tr>\n",
       "      <th>0</th>\n",
       "      <td>0</td>\n",
       "      <td>50.4</td>\n",
       "      <td>2</td>\n",
       "      <td>110</td>\n",
       "      <td>80</td>\n",
       "      <td>1</td>\n",
       "      <td>1</td>\n",
       "      <td>0</td>\n",
       "      <td>0</td>\n",
       "      <td>1</td>\n",
       "      <td>0</td>\n",
       "      <td>21.96712</td>\n",
       "    </tr>\n",
       "  </tbody>\n",
       "</table>\n",
       "</div>"
      ],
      "text/plain": [
       "   id   age  gender  ap_hi  ap_lo  cholesterol  gluc  smoke  alco  active  \\\n",
       "0   0  50.4       2    110     80            1     1      0     0       1   \n",
       "\n",
       "   cardio       BMI  \n",
       "0       0  21.96712  "
      ]
     },
     "execution_count": 557,
     "metadata": {},
     "output_type": "execute_result"
    }
   ],
   "source": [
    "df_categorical_2 = cardio_train_BMI_BP.drop([\"BIM_categories\", \"HTN_stage\", \"height\", \"weight\"], axis=1)\n",
    "df_categorical_2[:1]"
   ]
  },
  {
   "cell_type": "code",
   "execution_count": 559,
   "metadata": {},
   "outputs": [
    {
     "data": {
      "text/html": [
       "<div>\n",
       "<style scoped>\n",
       "    .dataframe tbody tr th:only-of-type {\n",
       "        vertical-align: middle;\n",
       "    }\n",
       "\n",
       "    .dataframe tbody tr th {\n",
       "        vertical-align: top;\n",
       "    }\n",
       "\n",
       "    .dataframe thead th {\n",
       "        text-align: right;\n",
       "    }\n",
       "</style>\n",
       "<table border=\"1\" class=\"dataframe\">\n",
       "  <thead>\n",
       "    <tr style=\"text-align: right;\">\n",
       "      <th></th>\n",
       "      <th>id</th>\n",
       "      <th>age</th>\n",
       "      <th>ap_hi</th>\n",
       "      <th>ap_lo</th>\n",
       "      <th>cholesterol</th>\n",
       "      <th>gluc</th>\n",
       "      <th>smoke</th>\n",
       "      <th>alco</th>\n",
       "      <th>active</th>\n",
       "      <th>cardio</th>\n",
       "      <th>BMI</th>\n",
       "      <th>gender_1</th>\n",
       "      <th>gender_2</th>\n",
       "    </tr>\n",
       "  </thead>\n",
       "  <tbody>\n",
       "    <tr>\n",
       "      <th>0</th>\n",
       "      <td>0</td>\n",
       "      <td>50.4</td>\n",
       "      <td>110</td>\n",
       "      <td>80</td>\n",
       "      <td>1</td>\n",
       "      <td>1</td>\n",
       "      <td>0</td>\n",
       "      <td>0</td>\n",
       "      <td>1</td>\n",
       "      <td>0</td>\n",
       "      <td>21.967120</td>\n",
       "      <td>0</td>\n",
       "      <td>1</td>\n",
       "    </tr>\n",
       "    <tr>\n",
       "      <th>1</th>\n",
       "      <td>1</td>\n",
       "      <td>55.4</td>\n",
       "      <td>140</td>\n",
       "      <td>90</td>\n",
       "      <td>3</td>\n",
       "      <td>1</td>\n",
       "      <td>0</td>\n",
       "      <td>0</td>\n",
       "      <td>1</td>\n",
       "      <td>1</td>\n",
       "      <td>34.927679</td>\n",
       "      <td>1</td>\n",
       "      <td>0</td>\n",
       "    </tr>\n",
       "    <tr>\n",
       "      <th>2</th>\n",
       "      <td>2</td>\n",
       "      <td>51.7</td>\n",
       "      <td>130</td>\n",
       "      <td>70</td>\n",
       "      <td>3</td>\n",
       "      <td>1</td>\n",
       "      <td>0</td>\n",
       "      <td>0</td>\n",
       "      <td>0</td>\n",
       "      <td>1</td>\n",
       "      <td>23.507805</td>\n",
       "      <td>1</td>\n",
       "      <td>0</td>\n",
       "    </tr>\n",
       "    <tr>\n",
       "      <th>3</th>\n",
       "      <td>3</td>\n",
       "      <td>48.3</td>\n",
       "      <td>150</td>\n",
       "      <td>100</td>\n",
       "      <td>1</td>\n",
       "      <td>1</td>\n",
       "      <td>0</td>\n",
       "      <td>0</td>\n",
       "      <td>1</td>\n",
       "      <td>1</td>\n",
       "      <td>28.710479</td>\n",
       "      <td>0</td>\n",
       "      <td>1</td>\n",
       "    </tr>\n",
       "    <tr>\n",
       "      <th>4</th>\n",
       "      <td>4</td>\n",
       "      <td>47.9</td>\n",
       "      <td>100</td>\n",
       "      <td>60</td>\n",
       "      <td>1</td>\n",
       "      <td>1</td>\n",
       "      <td>0</td>\n",
       "      <td>0</td>\n",
       "      <td>0</td>\n",
       "      <td>0</td>\n",
       "      <td>23.011177</td>\n",
       "      <td>1</td>\n",
       "      <td>0</td>\n",
       "    </tr>\n",
       "  </tbody>\n",
       "</table>\n",
       "</div>"
      ],
      "text/plain": [
       "   id   age  ap_hi  ap_lo  cholesterol  gluc  smoke  alco  active  cardio  \\\n",
       "0   0  50.4    110     80            1     1      0     0       1       0   \n",
       "1   1  55.4    140     90            3     1      0     0       1       1   \n",
       "2   2  51.7    130     70            3     1      0     0       0       1   \n",
       "3   3  48.3    150    100            1     1      0     0       1       1   \n",
       "4   4  47.9    100     60            1     1      0     0       0       0   \n",
       "\n",
       "         BMI  gender_1  gender_2  \n",
       "0  21.967120         0         1  \n",
       "1  34.927679         1         0  \n",
       "2  23.507805         1         0  \n",
       "3  28.710479         0         1  \n",
       "4  23.011177         1         0  "
      ]
     },
     "execution_count": 559,
     "metadata": {},
     "output_type": "execute_result"
    }
   ],
   "source": [
    "df_categorical_dummies_2 = pd.get_dummies(df_categorical_2, columns=[\"gender\"])\n",
    "df_categorical_dummies_2[:5]"
   ]
  },
  {
   "cell_type": "code",
   "execution_count": 570,
   "metadata": {},
   "outputs": [
    {
     "data": {
      "text/plain": [
       "Index(['id', 'age', 'ap_hi', 'ap_lo', 'cholesterol', 'gluc', 'smoke', 'alco',\n",
       "       'active', 'cardio', 'BMI', 'gender_1', 'gender_2'],\n",
       "      dtype='object')"
      ]
     },
     "execution_count": 570,
     "metadata": {},
     "output_type": "execute_result"
    }
   ],
   "source": [
    "df_categorical_dummies_2.columns"
   ]
  },
  {
   "cell_type": "markdown",
   "metadata": {},
   "source": [
    "### dataset 3 (Remove the dependent (corr > 0.4) features (variables))"
   ]
  },
  {
   "cell_type": "code",
   "execution_count": 577,
   "metadata": {},
   "outputs": [
    {
     "data": {
      "text/html": [
       "<div>\n",
       "<style scoped>\n",
       "    .dataframe tbody tr th:only-of-type {\n",
       "        vertical-align: middle;\n",
       "    }\n",
       "\n",
       "    .dataframe tbody tr th {\n",
       "        vertical-align: top;\n",
       "    }\n",
       "\n",
       "    .dataframe thead th {\n",
       "        text-align: right;\n",
       "    }\n",
       "</style>\n",
       "<table border=\"1\" class=\"dataframe\">\n",
       "  <thead>\n",
       "    <tr style=\"text-align: right;\">\n",
       "      <th></th>\n",
       "      <th>age</th>\n",
       "      <th>gender</th>\n",
       "      <th>smoke</th>\n",
       "      <th>alco</th>\n",
       "      <th>active</th>\n",
       "      <th>cardio</th>\n",
       "      <th>BIM_categories</th>\n",
       "      <th>HTN_stage</th>\n",
       "    </tr>\n",
       "  </thead>\n",
       "  <tbody>\n",
       "    <tr>\n",
       "      <th>0</th>\n",
       "      <td>50.4</td>\n",
       "      <td>2</td>\n",
       "      <td>0</td>\n",
       "      <td>0</td>\n",
       "      <td>1</td>\n",
       "      <td>0</td>\n",
       "      <td>Normal_range</td>\n",
       "      <td>HBP_stage1</td>\n",
       "    </tr>\n",
       "  </tbody>\n",
       "</table>\n",
       "</div>"
      ],
      "text/plain": [
       "    age  gender  smoke  alco  active  cardio BIM_categories   HTN_stage\n",
       "0  50.4       2      0     0       1       0   Normal_range  HBP_stage1"
      ]
     },
     "execution_count": 577,
     "metadata": {},
     "output_type": "execute_result"
    }
   ],
   "source": [
    "df_categorical_3 = cardio_train_BMI_BP.drop([\"id\", \"ap_hi\", \"ap_lo\", \"height\", \"weight\", \"cholesterol\", \"gluc\", \"BMI\"], axis=1)\n",
    "df_categorical_3[:1]"
   ]
  },
  {
   "cell_type": "code",
   "execution_count": 578,
   "metadata": {},
   "outputs": [
    {
     "data": {
      "text/html": [
       "<div>\n",
       "<style scoped>\n",
       "    .dataframe tbody tr th:only-of-type {\n",
       "        vertical-align: middle;\n",
       "    }\n",
       "\n",
       "    .dataframe tbody tr th {\n",
       "        vertical-align: top;\n",
       "    }\n",
       "\n",
       "    .dataframe thead th {\n",
       "        text-align: right;\n",
       "    }\n",
       "</style>\n",
       "<table border=\"1\" class=\"dataframe\">\n",
       "  <thead>\n",
       "    <tr style=\"text-align: right;\">\n",
       "      <th></th>\n",
       "      <th>age</th>\n",
       "      <th>smoke</th>\n",
       "      <th>alco</th>\n",
       "      <th>active</th>\n",
       "      <th>cardio</th>\n",
       "      <th>gender_1</th>\n",
       "      <th>gender_2</th>\n",
       "      <th>BIM_categories_Normal_range</th>\n",
       "      <th>BIM_categories_Obese_1</th>\n",
       "      <th>BIM_categories_Obese_2</th>\n",
       "      <th>BIM_categories_Obese_3</th>\n",
       "      <th>BIM_categories_Overweight</th>\n",
       "      <th>BIM_categories_Underweight</th>\n",
       "      <th>HTN_stage_Crisis</th>\n",
       "      <th>HTN_stage_Elevated</th>\n",
       "      <th>HTN_stage_HBP_stage1</th>\n",
       "      <th>HTN_stage_HBP_stage2</th>\n",
       "      <th>HTN_stage_Healthy</th>\n",
       "    </tr>\n",
       "  </thead>\n",
       "  <tbody>\n",
       "    <tr>\n",
       "      <th>0</th>\n",
       "      <td>50.4</td>\n",
       "      <td>0</td>\n",
       "      <td>0</td>\n",
       "      <td>1</td>\n",
       "      <td>0</td>\n",
       "      <td>0</td>\n",
       "      <td>1</td>\n",
       "      <td>1</td>\n",
       "      <td>0</td>\n",
       "      <td>0</td>\n",
       "      <td>0</td>\n",
       "      <td>0</td>\n",
       "      <td>0</td>\n",
       "      <td>0</td>\n",
       "      <td>0</td>\n",
       "      <td>1</td>\n",
       "      <td>0</td>\n",
       "      <td>0</td>\n",
       "    </tr>\n",
       "    <tr>\n",
       "      <th>1</th>\n",
       "      <td>55.4</td>\n",
       "      <td>0</td>\n",
       "      <td>0</td>\n",
       "      <td>1</td>\n",
       "      <td>1</td>\n",
       "      <td>1</td>\n",
       "      <td>0</td>\n",
       "      <td>0</td>\n",
       "      <td>1</td>\n",
       "      <td>0</td>\n",
       "      <td>0</td>\n",
       "      <td>0</td>\n",
       "      <td>0</td>\n",
       "      <td>0</td>\n",
       "      <td>0</td>\n",
       "      <td>0</td>\n",
       "      <td>1</td>\n",
       "      <td>0</td>\n",
       "    </tr>\n",
       "    <tr>\n",
       "      <th>2</th>\n",
       "      <td>51.7</td>\n",
       "      <td>0</td>\n",
       "      <td>0</td>\n",
       "      <td>0</td>\n",
       "      <td>1</td>\n",
       "      <td>1</td>\n",
       "      <td>0</td>\n",
       "      <td>1</td>\n",
       "      <td>0</td>\n",
       "      <td>0</td>\n",
       "      <td>0</td>\n",
       "      <td>0</td>\n",
       "      <td>0</td>\n",
       "      <td>0</td>\n",
       "      <td>0</td>\n",
       "      <td>1</td>\n",
       "      <td>0</td>\n",
       "      <td>0</td>\n",
       "    </tr>\n",
       "    <tr>\n",
       "      <th>3</th>\n",
       "      <td>48.3</td>\n",
       "      <td>0</td>\n",
       "      <td>0</td>\n",
       "      <td>1</td>\n",
       "      <td>1</td>\n",
       "      <td>0</td>\n",
       "      <td>1</td>\n",
       "      <td>0</td>\n",
       "      <td>0</td>\n",
       "      <td>0</td>\n",
       "      <td>0</td>\n",
       "      <td>1</td>\n",
       "      <td>0</td>\n",
       "      <td>0</td>\n",
       "      <td>0</td>\n",
       "      <td>0</td>\n",
       "      <td>1</td>\n",
       "      <td>0</td>\n",
       "    </tr>\n",
       "    <tr>\n",
       "      <th>4</th>\n",
       "      <td>47.9</td>\n",
       "      <td>0</td>\n",
       "      <td>0</td>\n",
       "      <td>0</td>\n",
       "      <td>0</td>\n",
       "      <td>1</td>\n",
       "      <td>0</td>\n",
       "      <td>1</td>\n",
       "      <td>0</td>\n",
       "      <td>0</td>\n",
       "      <td>0</td>\n",
       "      <td>0</td>\n",
       "      <td>0</td>\n",
       "      <td>0</td>\n",
       "      <td>0</td>\n",
       "      <td>0</td>\n",
       "      <td>0</td>\n",
       "      <td>1</td>\n",
       "    </tr>\n",
       "  </tbody>\n",
       "</table>\n",
       "</div>"
      ],
      "text/plain": [
       "    age  smoke  alco  active  cardio  gender_1  gender_2  \\\n",
       "0  50.4      0     0       1       0         0         1   \n",
       "1  55.4      0     0       1       1         1         0   \n",
       "2  51.7      0     0       0       1         1         0   \n",
       "3  48.3      0     0       1       1         0         1   \n",
       "4  47.9      0     0       0       0         1         0   \n",
       "\n",
       "   BIM_categories_Normal_range  BIM_categories_Obese_1  \\\n",
       "0                            1                       0   \n",
       "1                            0                       1   \n",
       "2                            1                       0   \n",
       "3                            0                       0   \n",
       "4                            1                       0   \n",
       "\n",
       "   BIM_categories_Obese_2  BIM_categories_Obese_3  BIM_categories_Overweight  \\\n",
       "0                       0                       0                          0   \n",
       "1                       0                       0                          0   \n",
       "2                       0                       0                          0   \n",
       "3                       0                       0                          1   \n",
       "4                       0                       0                          0   \n",
       "\n",
       "   BIM_categories_Underweight  HTN_stage_Crisis  HTN_stage_Elevated  \\\n",
       "0                           0                 0                   0   \n",
       "1                           0                 0                   0   \n",
       "2                           0                 0                   0   \n",
       "3                           0                 0                   0   \n",
       "4                           0                 0                   0   \n",
       "\n",
       "   HTN_stage_HBP_stage1  HTN_stage_HBP_stage2  HTN_stage_Healthy  \n",
       "0                     1                     0                  0  \n",
       "1                     0                     1                  0  \n",
       "2                     1                     0                  0  \n",
       "3                     0                     1                  0  \n",
       "4                     0                     0                  1  "
      ]
     },
     "execution_count": 578,
     "metadata": {},
     "output_type": "execute_result"
    }
   ],
   "source": [
    "df_categorical_dummies_3 = pd.get_dummies(df_categorical_3, columns=[\"gender\", \"BIM_categories\", \"HTN_stage\"])\n",
    "df_categorical_dummies_3[:5]"
   ]
  },
  {
   "cell_type": "code",
   "execution_count": 581,
   "metadata": {},
   "outputs": [
    {
     "data": {
      "text/plain": [
       "Index(['age', 'smoke', 'alco', 'active', 'cardio', 'gender_1', 'gender_2',\n",
       "       'BIM_categories_Normal_range', 'BIM_categories_Obese_1',\n",
       "       'BIM_categories_Obese_2', 'BIM_categories_Obese_3',\n",
       "       'BIM_categories_Overweight', 'BIM_categories_Underweight',\n",
       "       'HTN_stage_Crisis', 'HTN_stage_Elevated', 'HTN_stage_HBP_stage1',\n",
       "       'HTN_stage_HBP_stage2', 'HTN_stage_Healthy'],\n",
       "      dtype='object')"
      ]
     },
     "execution_count": 581,
     "metadata": {},
     "output_type": "execute_result"
    }
   ],
   "source": [
    "df_categorical_dummies_3.columns"
   ]
  },
  {
   "cell_type": "markdown",
   "metadata": {},
   "source": [
    "The purpose of dataset 3 is to prevent the multicollinearity in order to improve the accuracy for regression."
   ]
  },
  {
   "cell_type": "markdown",
   "metadata": {},
   "source": [
    "## 2.4 - Välja modell"
   ]
  },
  {
   "cell_type": "markdown",
   "metadata": {},
   "source": [
    "Välj 3-5 maskininlärningsmodeller, gärna så olika som möjligt. För varje dataset som vi skapade i uppgift 2.3 gör följande:\n",
    "\n",
    "- train|validation|test split\n",
    "- skala datasetet med feature standardization och normalization\n",
    "- definiera hyperparametrar (param_grids) att testa för varje modell\n",
    "- använd GridSearchCV() och välja lämplig evalueringsmetric\n",
    "- gör prediction på valideringsdata\n",
    "- beräkna och spara evaluation score för ditt valda metric\n",
    "- checka bästa parametrarna för respektive modell\n",
    "\n",
    "Vilket dataset väljer du och vilken modell väljer du? Använd den modellen du valt och träna på hela träningsdatan."
   ]
  },
  {
   "cell_type": "markdown",
   "metadata": {},
   "source": [
    "### Models I will choose will be:\n",
    "- Logistic Regression\n",
    "- kNN\n",
    "- Random Forest Classifier (random decision forests )"
   ]
  },
  {
   "cell_type": "markdown",
   "metadata": {},
   "source": [
    "- Data split"
   ]
  },
  {
   "cell_type": "code",
   "execution_count": 586,
   "metadata": {},
   "outputs": [
    {
     "data": {
      "text/plain": [
       "((45738, 23), (45738,))"
      ]
     },
     "execution_count": 586,
     "metadata": {},
     "output_type": "execute_result"
    }
   ],
   "source": [
    "from sklearn.model_selection import train_test_split\n",
    "\n",
    "# Split for dataset_1 :\n",
    "X_1, y_1 = df_categorical_dummies_1.drop([\"id\", \"cardio\"], axis=1), df_categorical_dummies_1[\"cardio\"] \n",
    "X_train_1, X_test_1, y_train_1, y_test_1 = train_test_split(X_1, y_1, test_size=0.33, random_state=42)\n",
    "X_train_1.shape, y_train_1.shape"
   ]
  },
  {
   "cell_type": "code",
   "execution_count": 585,
   "metadata": {},
   "outputs": [
    {
     "data": {
      "text/plain": [
       "((45738, 11), (45738,))"
      ]
     },
     "execution_count": 585,
     "metadata": {},
     "output_type": "execute_result"
    }
   ],
   "source": [
    "# Split for dataset_2 :\n",
    "X_2, y_2 = df_categorical_dummies_2.drop([\"id\", \"cardio\"], axis=1), df_categorical_dummies_2[\"cardio\"] \n",
    "X_train_2, X_test_2, y_train_2, y_test_2 = train_test_split(X_2, y_2, test_size=0.33, random_state=42)\n",
    "X_train_2.shape, y_train_2.shape"
   ]
  },
  {
   "cell_type": "code",
   "execution_count": 584,
   "metadata": {},
   "outputs": [
    {
     "data": {
      "text/plain": [
       "((45738, 17), (45738,))"
      ]
     },
     "execution_count": 584,
     "metadata": {},
     "output_type": "execute_result"
    }
   ],
   "source": [
    "# Split for dataset_3 :\n",
    "X_3, y_3 = df_categorical_dummies_3.drop([\"cardio\"], axis=1), df_categorical_dummies_3[\"cardio\"] \n",
    "X_train_3, X_test_3, y_train_3, y_test_3 = train_test_split(X_3, y_3, test_size=0.33, random_state=42)\n",
    "X_train_3.shape, y_train_3.shape"
   ]
  },
  {
   "cell_type": "markdown",
   "metadata": {},
   "source": [
    "- Data scale"
   ]
  },
  {
   "cell_type": "code",
   "execution_count": 720,
   "metadata": {},
   "outputs": [],
   "source": [
    "from sklearn.preprocessing import StandardScaler, MinMaxScaler\n",
    "\n",
    "# Standardization \n",
    "scaler_standard = StandardScaler()\n",
    "\n",
    "standard_X_train_1 = scaler_standard.fit_transform(X_train_1)\n",
    "standard_X_test_1 = scaler_standard.transform(X_test_1)\n",
    "\n",
    "standard_X_train_2 = scaler_standard.fit_transform(X_train_2)\n",
    "standard_X_test_2 = scaler_standard.transform(X_test_2)\n",
    "\n",
    "standard_X_train_3 = scaler_standard.fit_transform(X_train_3)\n",
    "standard_X_test_3 = scaler_standard.transform(X_test_3)\n",
    "\n",
    "# Normalization\n",
    "scaler_norm= MinMaxScaler()\n",
    "\n",
    "norm_X_train_1 = scaler_norm.fit_transform(X_train_1)\n",
    "norm_X_test_1 = scaler_norm.transform(X_test_1)\n",
    "\n",
    "norm_X_train_2 = scaler_norm.fit_transform(X_train_2)\n",
    "norm_X_test_2 = scaler_norm.transform(X_test_2)\n",
    "\n",
    "norm_X_train_3 = scaler_norm.fit_transform(X_train_3)\n",
    "norm_X_test_3 = scaler_norm.transform(X_test_3)\n"
   ]
  },
  {
   "cell_type": "code",
   "execution_count": 648,
   "metadata": {},
   "outputs": [
    {
     "name": "stdout",
     "output_type": "stream",
     "text": [
      "standard_X_train_1 mean: -0.00 std: 1.00\n",
      "standard_X_train_2 mean: 0.00 std: 1.00\n",
      "standard_X_train_3 mean: -0.00 std: 1.00\n",
      "norm_X_train_1 min: 0.00 max: 1.00\n",
      "norm_X_train_2 min: 0.00 max: 1.00\n",
      "norm_X_train_3 min: 0.00 max: 1.00\n"
     ]
    }
   ],
   "source": [
    "print(f\"standard_X_train_1 mean: {standard_X_train_1.mean():.2f} std: {standard_X_train_1.std():.2f}\")\n",
    "print(f\"standard_X_train_2 mean: {standard_X_train_2.mean():.2f} std: {standard_X_train_2.std():.2f}\")\n",
    "print(f\"standard_X_train_3 mean: {standard_X_train_3.mean():.2f} std: {standard_X_train_3.std():.2f}\")\n",
    "\n",
    "print(f\"norm_X_train_1 min: {norm_X_train_1.min():.2f} max: {norm_X_train_1.max():.2f}\")\n",
    "print(f\"norm_X_train_2 min: {norm_X_train_2.min():.2f} max: {norm_X_train_2.max():.2f}\")\n",
    "print(f\"norm_X_train_3 min: {norm_X_train_3.min():.2f} max: {norm_X_train_3.max():.2f}\")\n"
   ]
  },
  {
   "cell_type": "markdown",
   "metadata": {},
   "source": [
    "- Define hyperparameters (param_grids) to test for each model"
   ]
  },
  {
   "cell_type": "code",
   "execution_count": 703,
   "metadata": {},
   "outputs": [],
   "source": [
    "# load the libaries\n",
    "from sklearn.model_selection import GridSearchCV\n",
    "from sklearn.pipeline import Pipeline\n",
    "from sklearn.preprocessing import StandardScaler\n",
    "from sklearn.neighbors import KNeighborsClassifier\n",
    "from sklearn.linear_model import LogisticRegression\n",
    "from sklearn.ensemble import RandomForestClassifier, VotingClassifier\n",
    "from sklearn.model_selection import cross_val_score"
   ]
  },
  {
   "cell_type": "markdown",
   "metadata": {},
   "source": [
    "### Scaled Feature with $Standardization$"
   ]
  },
  {
   "cell_type": "markdown",
   "metadata": {},
   "source": [
    "#### Logistic Regression"
   ]
  },
  {
   "cell_type": "markdown",
   "metadata": {},
   "source": [
    "- Dataset 1"
   ]
  },
  {
   "cell_type": "code",
   "execution_count": 711,
   "metadata": {},
   "outputs": [
    {
     "name": "stdout",
     "output_type": "stream",
     "text": [
      "Best parameter: {'C': 1, 'penalty': 'l1'} and Best score: 0.72\n"
     ]
    }
   ],
   "source": [
    "# model_original \n",
    "LR_model= LogisticRegression(solver=\"liblinear\", fit_intercept=True, max_iter=1000, multi_class=\"auto\") \n",
    "# solver='liblinear' for L1 and L2\n",
    "\n",
    "tuned_parameters_LR = {\"C\":[0.001,0.01,0.1,1,10,100,1000],\n",
    "                    \"penalty\":[\"l1\",\"l2\"]  # Choose different regularization methods to prevent overfitting\n",
    "                   }\n",
    "\n",
    "# grid search module\n",
    "LR = GridSearchCV(LR_model, tuned_parameters_LR, cv=5, scoring=\"accuracy\")\n",
    "\n",
    "# Model after search\n",
    "LR.fit(standard_X_train_1, y_train_1)\n",
    "\n",
    "# Determine the parameters\n",
    "print(f\"Best parameter: {LR.best_params_} and Best score: {LR.best_score_:.2f}\") # best parameter and score"
   ]
  },
  {
   "cell_type": "markdown",
   "metadata": {},
   "source": [
    "- Dataset 2"
   ]
  },
  {
   "cell_type": "code",
   "execution_count": 712,
   "metadata": {},
   "outputs": [
    {
     "name": "stdout",
     "output_type": "stream",
     "text": [
      "Best parameter: {'C': 10, 'penalty': 'l1'} and Best score: 0.73\n"
     ]
    }
   ],
   "source": [
    "LR.fit(standard_X_train_2, y_train_2)\n",
    "\n",
    "print(f\"Best parameter: {LR.best_params_} and Best score: {LR.best_score_:.2f}\") "
   ]
  },
  {
   "cell_type": "markdown",
   "metadata": {},
   "source": [
    "- Dataset 3"
   ]
  },
  {
   "cell_type": "code",
   "execution_count": 713,
   "metadata": {},
   "outputs": [
    {
     "name": "stdout",
     "output_type": "stream",
     "text": [
      "Best parameter: {'C': 1, 'penalty': 'l1'} and Best score: 0.71\n"
     ]
    }
   ],
   "source": [
    "LR.fit(standard_X_train_3, y_train_3)\n",
    "\n",
    "print(f\"Best parameter: {LR.best_params_} and Best score: {LR.best_score_:.2f}\") "
   ]
  },
  {
   "cell_type": "markdown",
   "metadata": {},
   "source": [
    "#### kNN "
   ]
  },
  {
   "cell_type": "markdown",
   "metadata": {},
   "source": [
    "- Dataset 1"
   ]
  },
  {
   "cell_type": "code",
   "execution_count": 714,
   "metadata": {},
   "outputs": [
    {
     "name": "stdout",
     "output_type": "stream",
     "text": [
      "Best parameter: {'metric': 'manhattan', 'n_neighbors': 10} and Best score: 0.71\n"
     ]
    }
   ],
   "source": [
    "KNN_model= KNeighborsClassifier(n_neighbors=5, weights=\"uniform\", algorithm=\"auto\", leaf_size=30, metric_params=None)\n",
    "\n",
    "tuned_parameters_KNN = {\"n_neighbors\": range(1, 11),\n",
    "                    \"metric\":[\"euclidean\", \"manhattan\"] \n",
    "                   }\n",
    "\n",
    "# grid search module\n",
    "KNN = GridSearchCV(KNN_model, tuned_parameters_KNN, cv=5, scoring=\"accuracy\")\n",
    "\n",
    "# Model after search\n",
    "KNN.fit(standard_X_train_1, y_train_1)\n",
    "\n",
    "print(f\"Best parameter: {KNN.best_params_} and Best score: {KNN.best_score_:.2f}\") "
   ]
  },
  {
   "cell_type": "markdown",
   "metadata": {},
   "source": [
    "- Dataset 2"
   ]
  },
  {
   "cell_type": "code",
   "execution_count": 715,
   "metadata": {},
   "outputs": [
    {
     "name": "stdout",
     "output_type": "stream",
     "text": [
      "Best parameter: {'metric': 'manhattan', 'n_neighbors': 10} and Best score: 0.72\n"
     ]
    }
   ],
   "source": [
    "KNN.fit(standard_X_train_2, y_train_2)\n",
    "\n",
    "print(f\"Best parameter: {KNN.best_params_} and Best score: {KNN.best_score_:.2f}\") "
   ]
  },
  {
   "cell_type": "markdown",
   "metadata": {},
   "source": [
    "- Dataset 3"
   ]
  },
  {
   "cell_type": "code",
   "execution_count": 716,
   "metadata": {},
   "outputs": [
    {
     "name": "stdout",
     "output_type": "stream",
     "text": [
      "Best parameter: {'metric': 'euclidean', 'n_neighbors': 10} and Best score: 0.69\n"
     ]
    }
   ],
   "source": [
    "KNN.fit(standard_X_train_3, y_train_3)\n",
    "\n",
    "print(f\"Best parameter: {KNN.best_params_} and Best score: {KNN.best_score_:.2f}\") "
   ]
  },
  {
   "cell_type": "markdown",
   "metadata": {},
   "source": [
    "#### Random Forest Classifier"
   ]
  },
  {
   "cell_type": "markdown",
   "metadata": {},
   "source": [
    "- Dataset 1"
   ]
  },
  {
   "cell_type": "code",
   "execution_count": 717,
   "metadata": {},
   "outputs": [
    {
     "name": "stdout",
     "output_type": "stream",
     "text": [
      "Best parameter: {'criterion': 'gini', 'max_features': 'auto', 'n_estimators': 200} and Best score: 0.67\n"
     ]
    }
   ],
   "source": [
    "RF_model= RandomForestClassifier(random_state=42)\n",
    "\n",
    "tuned_parameters_RF = {\"n_estimators\": [100, 150, 200, 300], \n",
    "                    \"criterion\": [\"gini\", \"entropy\"], \"max_features\": [\"auto\",\"sqrt\", \"log2\"]\n",
    "                   }\n",
    "\n",
    "# grid search module\n",
    "RF = GridSearchCV(RF_model, tuned_parameters_RF, cv=5, scoring=\"accuracy\")\n",
    "\n",
    "# Model after search\n",
    "RF.fit(standard_X_train_1, y_train_1)\n",
    "\n",
    "print(f\"Best parameter: {RF.best_params_} and Best score: {RF.best_score_:.2f}\") "
   ]
  },
  {
   "cell_type": "markdown",
   "metadata": {},
   "source": [
    "- Dataset 2"
   ]
  },
  {
   "cell_type": "code",
   "execution_count": 718,
   "metadata": {},
   "outputs": [
    {
     "name": "stdout",
     "output_type": "stream",
     "text": [
      "Best parameter: {'criterion': 'gini', 'max_features': 'auto', 'n_estimators': 200} and Best score: 0.70\n"
     ]
    }
   ],
   "source": [
    "RF.fit(standard_X_train_2, y_train_2)\n",
    "\n",
    "print(f\"Best parameter: {RF.best_params_} and Best score: {RF.best_score_:.2f}\") "
   ]
  },
  {
   "cell_type": "markdown",
   "metadata": {},
   "source": [
    "- Dataset 3"
   ]
  },
  {
   "cell_type": "code",
   "execution_count": 719,
   "metadata": {},
   "outputs": [
    {
     "name": "stdout",
     "output_type": "stream",
     "text": [
      "Best parameter: {'criterion': 'entropy', 'max_features': 'auto', 'n_estimators': 300} and Best score: 0.67\n"
     ]
    }
   ],
   "source": [
    "RF.fit(standard_X_train_3, y_train_3)\n",
    "\n",
    "print(f\"Best parameter: {RF.best_params_} and Best score: {RF.best_score_:.2f}\") "
   ]
  },
  {
   "cell_type": "markdown",
   "metadata": {},
   "source": [
    "### Scaled Feature with $Normalization$"
   ]
  },
  {
   "cell_type": "markdown",
   "metadata": {},
   "source": [
    "#### Logistic Regression"
   ]
  },
  {
   "cell_type": "markdown",
   "metadata": {},
   "source": [
    "- Dataset 1"
   ]
  },
  {
   "cell_type": "code",
   "execution_count": 721,
   "metadata": {},
   "outputs": [
    {
     "name": "stdout",
     "output_type": "stream",
     "text": [
      "Best parameter: {'C': 1, 'penalty': 'l2'} and Best score: 0.72\n"
     ]
    }
   ],
   "source": [
    "LR.fit(norm_X_train_1, y_train_1)\n",
    "\n",
    "print(f\"Best parameter: {LR.best_params_} and Best score: {LR.best_score_:.2f}\")"
   ]
  },
  {
   "cell_type": "markdown",
   "metadata": {},
   "source": [
    "- Dataset 2"
   ]
  },
  {
   "cell_type": "code",
   "execution_count": 722,
   "metadata": {},
   "outputs": [
    {
     "name": "stdout",
     "output_type": "stream",
     "text": [
      "Best parameter: {'C': 1, 'penalty': 'l1'} and Best score: 0.73\n"
     ]
    }
   ],
   "source": [
    "LR.fit(norm_X_train_2, y_train_2)\n",
    "\n",
    "print(f\"Best parameter: {LR.best_params_} and Best score: {LR.best_score_:.2f}\")"
   ]
  },
  {
   "cell_type": "markdown",
   "metadata": {},
   "source": [
    "- Dataset 3"
   ]
  },
  {
   "cell_type": "code",
   "execution_count": 723,
   "metadata": {},
   "outputs": [
    {
     "name": "stdout",
     "output_type": "stream",
     "text": [
      "Best parameter: {'C': 10, 'penalty': 'l1'} and Best score: 0.71\n"
     ]
    }
   ],
   "source": [
    "LR.fit(norm_X_train_3, y_train_3)\n",
    "\n",
    "print(f\"Best parameter: {LR.best_params_} and Best score: {LR.best_score_:.2f}\")"
   ]
  },
  {
   "cell_type": "markdown",
   "metadata": {},
   "source": [
    "#### KNN "
   ]
  },
  {
   "cell_type": "markdown",
   "metadata": {},
   "source": [
    "- Dataset 1"
   ]
  },
  {
   "cell_type": "code",
   "execution_count": 724,
   "metadata": {},
   "outputs": [
    {
     "name": "stdout",
     "output_type": "stream",
     "text": [
      "Best parameter: {'metric': 'euclidean', 'n_neighbors': 10} and Best score: 0.70\n"
     ]
    }
   ],
   "source": [
    "KNN.fit(norm_X_train_1, y_train_1)\n",
    "\n",
    "print(f\"Best parameter: {KNN.best_params_} and Best score: {KNN.best_score_:.2f}\") "
   ]
  },
  {
   "cell_type": "markdown",
   "metadata": {},
   "source": [
    "- Dataset 2"
   ]
  },
  {
   "cell_type": "code",
   "execution_count": 725,
   "metadata": {},
   "outputs": [
    {
     "name": "stdout",
     "output_type": "stream",
     "text": [
      "Best parameter: {'metric': 'manhattan', 'n_neighbors': 10} and Best score: 0.71\n"
     ]
    }
   ],
   "source": [
    "KNN.fit(norm_X_train_2, y_train_2)\n",
    "\n",
    "print(f\"Best parameter: {KNN.best_params_} and Best score: {KNN.best_score_:.2f}\") "
   ]
  },
  {
   "cell_type": "markdown",
   "metadata": {},
   "source": [
    "- Dataset 3"
   ]
  },
  {
   "cell_type": "code",
   "execution_count": 726,
   "metadata": {},
   "outputs": [
    {
     "name": "stdout",
     "output_type": "stream",
     "text": [
      "Best parameter: {'metric': 'euclidean', 'n_neighbors': 10} and Best score: 0.69\n"
     ]
    }
   ],
   "source": [
    "KNN.fit(norm_X_train_3, y_train_3)\n",
    "\n",
    "print(f\"Best parameter: {KNN.best_params_} and Best score: {KNN.best_score_:.2f}\") "
   ]
  },
  {
   "cell_type": "markdown",
   "metadata": {},
   "source": [
    "#### Random Forest Classifier"
   ]
  },
  {
   "cell_type": "markdown",
   "metadata": {},
   "source": [
    "- Dataset 1"
   ]
  },
  {
   "cell_type": "code",
   "execution_count": 727,
   "metadata": {},
   "outputs": [
    {
     "name": "stdout",
     "output_type": "stream",
     "text": [
      "Best parameter: {'criterion': 'entropy', 'max_features': 'auto', 'n_estimators': 300} and Best score: 0.67\n"
     ]
    }
   ],
   "source": [
    "RF.fit(norm_X_train_1, y_train_1)\n",
    "\n",
    "print(f\"Best parameter: {RF.best_params_} and Best score: {RF.best_score_:.2f}\") "
   ]
  },
  {
   "cell_type": "markdown",
   "metadata": {},
   "source": [
    "- Dataset 2"
   ]
  },
  {
   "cell_type": "code",
   "execution_count": 728,
   "metadata": {},
   "outputs": [
    {
     "name": "stdout",
     "output_type": "stream",
     "text": [
      "Best parameter: {'criterion': 'gini', 'max_features': 'auto', 'n_estimators': 200} and Best score: 0.70\n"
     ]
    }
   ],
   "source": [
    "RF.fit(norm_X_train_2, y_train_2)\n",
    "\n",
    "print(f\"Best parameter: {RF.best_params_} and Best score: {RF.best_score_:.2f}\") "
   ]
  },
  {
   "cell_type": "markdown",
   "metadata": {},
   "source": [
    "- Dataset 3"
   ]
  },
  {
   "cell_type": "code",
   "execution_count": 729,
   "metadata": {},
   "outputs": [
    {
     "name": "stdout",
     "output_type": "stream",
     "text": [
      "Best parameter: {'criterion': 'entropy', 'max_features': 'auto', 'n_estimators': 300} and Best score: 0.67\n"
     ]
    }
   ],
   "source": [
    "RF.fit(norm_X_train_3, y_train_3)\n",
    "\n",
    "print(f\"Best parameter: {RF.best_params_} and Best score: {RF.best_score_:.2f}\") "
   ]
  },
  {
   "cell_type": "code",
   "execution_count": 677,
   "metadata": {},
   "outputs": [],
   "source": [
    "# # pipeline with StandardScaler and LogisticRegression\n",
    "# pipe_LR = Pipeline([(\"scaler\", None), (\"log\", LogisticRegression(solver=\"saga\", multi_class = \"ovr\", max_iter=10000, penalty=\"elasticnet\"))])\n",
    "# # defind L1 ratio\n",
    "# l1_ratio = np.linspace(0, 1, 20) \n",
    "# param_grid_LR = {\"log__l1_ratio\": l1_ratio}\n",
    "# # Run GridSearchCV\n",
    "# classifier_LR = GridSearchCV(estimator=pipe_LR, param_grid=param_grid_LR, cv=5, scoring=\"accuracy\")"
   ]
  },
  {
   "cell_type": "code",
   "execution_count": 673,
   "metadata": {},
   "outputs": [],
   "source": [
    "# dataset_1_classifier_standard = classifier_LR.fit(standard_X_train_1 , y_train_1)\n",
    "# dataset_2_classifier_standard = classifier_LR.fit(standard_X_train_2 , y_train_2)\n",
    "# dataset_3_classifier_standard = classifier_LR.fit(standard_X_train_3 , y_train_3)"
   ]
  },
  {
   "cell_type": "code",
   "execution_count": 695,
   "metadata": {},
   "outputs": [
    {
     "data": {
      "text/plain": [
       "(array([0.35855329, 0.22028808, 0.84864588, ..., 0.38068683, 0.39361477,\n",
       "        0.92329601]),\n",
       " array([0, 0, 1, ..., 0, 0, 1], dtype=int64),\n",
       " 1.0)"
      ]
     },
     "execution_count": 695,
     "metadata": {},
     "output_type": "execute_result"
    }
   ],
   "source": [
    "model_LR = LogisticRegression()\n",
    "model_LR.fit(standard_X_train_1, y_train_1)\n",
    "\n",
    "y_prob = model_LR.predict_proba(standard_X_test_1)[:,1] # y predictions of probability\n",
    "\n",
    "y_pred = model_LR.predict(standard_X_test_1) # y predictions between 0 and 1\n",
    "\n",
    "y_prob, y_pred, model_LR.score(standard_X_test_1,y_pred)"
   ]
  },
  {
   "cell_type": "code",
   "execution_count": 687,
   "metadata": {},
   "outputs": [
    {
     "data": {
      "text/plain": [
       "array([[9087, 2312],\n",
       "       [3955, 7174]], dtype=int64)"
      ]
     },
     "execution_count": 687,
     "metadata": {},
     "output_type": "execute_result"
    }
   ],
   "source": [
    "from sklearn import metrics\n",
    "confusion_matrix = metrics.confusion_matrix(y_test_1, y_pred)\n",
    "confusion_matrix"
   ]
  }
 ],
 "metadata": {
  "interpreter": {
   "hash": "d599e8ed57b4ba34dca595ae6c2c24f79d390e3613c4259c7061402a6e6c1dd5"
  },
  "kernelspec": {
   "display_name": "Python 3.9.6 ('Maskininlarning-oF7sSZe7')",
   "language": "python",
   "name": "python3"
  },
  "language_info": {
   "codemirror_mode": {
    "name": "ipython",
    "version": 3
   },
   "file_extension": ".py",
   "mimetype": "text/x-python",
   "name": "python",
   "nbconvert_exporter": "python",
   "pygments_lexer": "ipython3",
   "version": "3.9.6"
  },
  "orig_nbformat": 4
 },
 "nbformat": 4,
 "nbformat_minor": 2
}
